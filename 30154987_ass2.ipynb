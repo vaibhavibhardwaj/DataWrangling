{
 "cells": [
  {
   "cell_type": "markdown",
   "metadata": {},
   "source": [
    "## Assessment 2 \n",
    "## FIT5196-S2-2020 \n",
    "Student information\n",
    "- Student Name : Vaibhavi Bhardwaj\n",
    "- Student ID: 30154987\n",
    "- Student email: vbha0006@student.monash.edu\n",
    "\n",
    "## Index\n",
    "* [A. Introduction](#A.-Introduction)\n",
    "* [B. Methodology](#B.-Methodology)\n",
    "* [C. Conclusion](#C.-Conclusion)\n",
    "* [D. References](#D.-References)\n",
    "\n",
    "\n",
    "# A. Introduction\n",
    "\n",
    "The data given is from a retail electronic store in Melbourne and provides the transaction made by the customers. The store sells 10 items as stated in the assessment specification. The assessment provides a problem of cleaning some datasets to fix issues encountered while cleaning data. \n",
    "\n",
    "Dirty data has the problem of errors that needs to be fixed. It is known that each row in the dataset has only one error which can be fixed. It is easier to start fixing the errors which are least dependent on any other variable as it is easy to resolve smaller issues. Furthermore, it provides time to think of bigger cases to handle.\n",
    "\n",
    "Missing data revolves around the concept of finding the best value for cells that are specified null. It utilizes models to help relate many variables to the target variable 'delivery_charges'. Furthermore, models help to follow the data flow or business rule that governs the data.\n",
    "\n",
    "Finally, the outlier data is presented to find all the possible outliers in the dataset. It also requires modeling as it helps to find the residuals for data. Residuals are something that can be utilized to find outliers.\n",
    "\n",
    "\n",
    "# B. Methodology\n",
    "\n",
    "* [1. Importing Libraries](#1.-Importing-Libraries)\n",
    "* [2. Reading Data](#2.-Reading-Data)\n",
    "* [3. Dirty Data](#3.-Dirty-Data)\n",
    "    * [3.1 is_happy_customer check](#3.1-is_happy_customer-check)\n",
    "        * [3.1.1 Exploring Errors](#3.1.1-Exploring-Errors)\n",
    "        * [3.1.2 Fixing Error](#3.1.2-Fixing-Error)\n",
    "    * [3.2 customer_lat & customer_long check](#3.2-customer_lat-&-customer_long-check)\n",
    "        * [3.1.1 Exploring Errors](#3.1.1-Exploring-Errors)\n",
    "        * [3.1.2 Fixing Error](#3.1.2-Fixing-Error)\n",
    "    * [3.3 distance_to_nearest_warehouse & nearest_warehouse check ](#3.3-distance_to_nearest_warehouse-&-nearest_warehouse-check)\n",
    "        * [3.1.1 Exploring Errors](#3.1.1-Exploring-Errors)\n",
    "        * [3.1.2 Fixing Error](#3.1.2-Fixing-Error)\n",
    "    * [3.4 season & date check](#3.4-season-&-date-check)\n",
    "        * [3.4.1 Exploring Errors](#3.4.1-Exploring-Errors)\n",
    "        * [3.4.2 Fixing Error](#3.4.2-Fixing-Error)\n",
    "    * [3.5 order_price, order_total and shopping_cart check ](#3.5-order_price,-order_total-and-shopping_cart-check)\n",
    "        * [3.5.1 Shopping Cart & Item Price Evaluation](#3.5.1-Shopping-Cart-&-Item-Price-Evaluation)\n",
    "        * [3.5.2 Exploring Errors](#3.5.2-Exploring-Errors)\n",
    "        * [3.5.3 Fixing Error](#3.5.3-Fixing-Error)\n",
    "    * [3.6 order_id, customer_id and is_expedited_delivery check](#3.6-order_id,-customer_id-and-is_expedited_delivery-check)\n",
    "    * [3.7 Dirty Data Solution](#3.7-Dirty-Data-Solution)\n",
    "* [4. Missing Data](#4.-Missing-Data) \n",
    "    * [4.1 is_happy_customer imputation](#4.1-is_happy_customer-imputation)\n",
    "    * [4.2 order_price and order_total imputation](#4.2-order_price-and-order_total-imputation)\n",
    "    * [4.3 order_total imputation](#4.3-order_total-imputation)\n",
    "    * [4.4 nearest_warehouse & distance_to_nearest_warehouse imputation](#4.4-nearest_warehouse-&-distance_to_nearest_warehouse-imputation)\n",
    "    * [4.5 delivery_charges imputation](#4.5-delivery_charges-imputation)\n",
    "        * [4.5.1 Training  and Building Models](#4.5.1-Training--and-Building-Models)\n",
    "        * [4.5.2 Model Predictions](#4.5.2-Model-Predictions)\n",
    "    * [4.6 Missing Data Solution](#4.6-Missing-Data-Solution)\n",
    "* [5. Outlier Data](#5.-Outlier-Data)\n",
    "    * [5.1 Outlier Data Exploration](#5.1-Outlier-Data-Exploration)\n",
    "    * [5.2 Model Building & Outlier Detection](#5.2-Model-Building-&-Outlier-Detection)\n",
    "    * [5.3 Outlier Removal](#5.3-Outlier-Removal)\n",
    "    * [5.4 Outlier Data Solution](#5.4-Outlier-Data-Solution)"
   ]
  },
  {
   "cell_type": "markdown",
   "metadata": {},
   "source": [
    "# 1. Importing Libraries"
   ]
  },
  {
   "cell_type": "code",
   "execution_count": 505,
   "metadata": {},
   "outputs": [],
   "source": [
    "#! pip install yellowbrick\n",
    "import warnings\n",
    "warnings.filterwarnings('ignore')"
   ]
  },
  {
   "cell_type": "code",
   "execution_count": 506,
   "metadata": {},
   "outputs": [
    {
     "name": "stderr",
     "output_type": "stream",
     "text": [
      "[nltk_data] Downloading package vader_lexicon to\n",
      "[nltk_data]     C:\\Users\\vaibh\\AppData\\Roaming\\nltk_data...\n",
      "[nltk_data]   Package vader_lexicon is already up-to-date!\n"
     ]
    }
   ],
   "source": [
    "import pandas as pd\n",
    "import numpy as np\n",
    "import matplotlib.pylab as plt\n",
    "%matplotlib inline\n",
    "import seaborn as sns\n",
    "import os\n",
    "import math  \n",
    "import glob\n",
    "import nltk.sentiment.vader\n",
    "import nltk\n",
    "from nltk.sentiment import SentimentIntensityAnalyzer\n",
    "nltk.download('vader_lexicon')\n",
    "from sklearn.linear_model import LinearRegression\n",
    "from sklearn.datasets import load_boston\n",
    "from yellowbrick.regressor import CooksDistance\n",
    "from yellowbrick.datasets import load_concrete\n",
    "from sklearn.linear_model import Ridge\n",
    "from sklearn.model_selection import train_test_split\n",
    "from yellowbrick.regressor import ResidualsPlot\n",
    "from yellowbrick.regressor import cooks_distance\n",
    "from sklearn import datasets, linear_model\n",
    "from sklearn.metrics import mean_squared_error, r2_score"
   ]
  },
  {
   "cell_type": "markdown",
   "metadata": {},
   "source": [
    "# 2. Reading Data"
   ]
  },
  {
   "cell_type": "markdown",
   "metadata": {},
   "source": [
    "**Loading Cleaning Data**"
   ]
  },
  {
   "cell_type": "code",
   "execution_count": 507,
   "metadata": {},
   "outputs": [],
   "source": [
    "# Reading data from the files \n",
    "# dirty data for fixing errors\n",
    "dirty_data = pd.read_csv('30154987_dirty_data.csv')\n",
    "# mising data to fill relevant values\n",
    "missing_data = pd.read_csv('30154987_missing_data.csv')\n",
    "# outlier file to remove outliers\n",
    "outlier_data = pd.read_csv('30154987_outlier_data.csv')"
   ]
  },
  {
   "cell_type": "markdown",
   "metadata": {},
   "source": [
    "# 3. Dirty Data\n",
    "\n",
    "Let's print the top 4 rows of dirty data to just know about the data fields and it's structure."
   ]
  },
  {
   "cell_type": "code",
   "execution_count": 508,
   "metadata": {
    "scrolled": true
   },
   "outputs": [
    {
     "data": {
      "text/html": [
       "<div>\n",
       "<style scoped>\n",
       "    .dataframe tbody tr th:only-of-type {\n",
       "        vertical-align: middle;\n",
       "    }\n",
       "\n",
       "    .dataframe tbody tr th {\n",
       "        vertical-align: top;\n",
       "    }\n",
       "\n",
       "    .dataframe thead th {\n",
       "        text-align: right;\n",
       "    }\n",
       "</style>\n",
       "<table border=\"1\" class=\"dataframe\">\n",
       "  <thead>\n",
       "    <tr style=\"text-align: right;\">\n",
       "      <th></th>\n",
       "      <th>order_id</th>\n",
       "      <th>customer_id</th>\n",
       "      <th>date</th>\n",
       "      <th>nearest_warehouse</th>\n",
       "      <th>shopping_cart</th>\n",
       "      <th>order_price</th>\n",
       "      <th>delivery_charges</th>\n",
       "      <th>customer_lat</th>\n",
       "      <th>customer_long</th>\n",
       "      <th>coupon_discount</th>\n",
       "      <th>order_total</th>\n",
       "      <th>season</th>\n",
       "      <th>is_expedited_delivery</th>\n",
       "      <th>distance_to_nearest_warehouse</th>\n",
       "      <th>latest_customer_review</th>\n",
       "      <th>is_happy_customer</th>\n",
       "    </tr>\n",
       "  </thead>\n",
       "  <tbody>\n",
       "    <tr>\n",
       "      <th>0</th>\n",
       "      <td>ORD032938</td>\n",
       "      <td>ID1492149394</td>\n",
       "      <td>2019-06-03</td>\n",
       "      <td>Thompson</td>\n",
       "      <td>[('iAssist Line', 2), ('iStream', 2), ('pearTV...</td>\n",
       "      <td>26320</td>\n",
       "      <td>48.70</td>\n",
       "      <td>-37.813074</td>\n",
       "      <td>144.951563</td>\n",
       "      <td>10</td>\n",
       "      <td>23736.70</td>\n",
       "      <td>Winter</td>\n",
       "      <td>False</td>\n",
       "      <td>0.3977</td>\n",
       "      <td>mal funcionamiento el artículo llego en buenas...</td>\n",
       "      <td>False</td>\n",
       "    </tr>\n",
       "    <tr>\n",
       "      <th>1</th>\n",
       "      <td>ORD311374</td>\n",
       "      <td>ID1033063213</td>\n",
       "      <td>2019-08-03</td>\n",
       "      <td>thompson</td>\n",
       "      <td>[('Toshika 750', 2), ('iAssist Line', 2)]</td>\n",
       "      <td>13090</td>\n",
       "      <td>65.91</td>\n",
       "      <td>-37.800689</td>\n",
       "      <td>144.994321</td>\n",
       "      <td>0</td>\n",
       "      <td>13155.91</td>\n",
       "      <td>Winter</td>\n",
       "      <td>False</td>\n",
       "      <td>1.0391</td>\n",
       "      <td>ok phone i got this phone for my mother she li...</td>\n",
       "      <td>True</td>\n",
       "    </tr>\n",
       "    <tr>\n",
       "      <th>2</th>\n",
       "      <td>ORD396995</td>\n",
       "      <td>ID0710001211</td>\n",
       "      <td>2019-02-21</td>\n",
       "      <td>Thompson</td>\n",
       "      <td>[('iStream', 2), ('Alcon 10', 1), ('Universe N...</td>\n",
       "      <td>16150</td>\n",
       "      <td>76.31</td>\n",
       "      <td>-37.814016</td>\n",
       "      <td>144.936078</td>\n",
       "      <td>10</td>\n",
       "      <td>14611.31</td>\n",
       "      <td>Summer</td>\n",
       "      <td>False</td>\n",
       "      <td>0.9780</td>\n",
       "      <td>thank you. b thank you. b</td>\n",
       "      <td>False</td>\n",
       "    </tr>\n",
       "    <tr>\n",
       "      <th>3</th>\n",
       "      <td>ORD435122</td>\n",
       "      <td>ID0033675616</td>\n",
       "      <td>2019-12-07</td>\n",
       "      <td>Thompson</td>\n",
       "      <td>[('Thunder line', 1), ('Universe Note', 2), ('...</td>\n",
       "      <td>21700</td>\n",
       "      <td>93.24</td>\n",
       "      <td>-37.809084</td>\n",
       "      <td>144.955502</td>\n",
       "      <td>15</td>\n",
       "      <td>18538.24</td>\n",
       "      <td>Summer</td>\n",
       "      <td>True</td>\n",
       "      <td>0.8424</td>\n",
       "      <td>i love my inferno stick</td>\n",
       "      <td>True</td>\n",
       "    </tr>\n",
       "  </tbody>\n",
       "</table>\n",
       "</div>"
      ],
      "text/plain": [
       "    order_id   customer_id        date nearest_warehouse  \\\n",
       "0  ORD032938  ID1492149394  2019-06-03          Thompson   \n",
       "1  ORD311374  ID1033063213  2019-08-03          thompson   \n",
       "2  ORD396995  ID0710001211  2019-02-21          Thompson   \n",
       "3  ORD435122  ID0033675616  2019-12-07          Thompson   \n",
       "\n",
       "                                       shopping_cart  order_price  \\\n",
       "0  [('iAssist Line', 2), ('iStream', 2), ('pearTV...        26320   \n",
       "1          [('Toshika 750', 2), ('iAssist Line', 2)]        13090   \n",
       "2  [('iStream', 2), ('Alcon 10', 1), ('Universe N...        16150   \n",
       "3  [('Thunder line', 1), ('Universe Note', 2), ('...        21700   \n",
       "\n",
       "   delivery_charges  customer_lat  customer_long  coupon_discount  \\\n",
       "0             48.70    -37.813074     144.951563               10   \n",
       "1             65.91    -37.800689     144.994321                0   \n",
       "2             76.31    -37.814016     144.936078               10   \n",
       "3             93.24    -37.809084     144.955502               15   \n",
       "\n",
       "   order_total  season  is_expedited_delivery  distance_to_nearest_warehouse  \\\n",
       "0     23736.70  Winter                  False                         0.3977   \n",
       "1     13155.91  Winter                  False                         1.0391   \n",
       "2     14611.31  Summer                  False                         0.9780   \n",
       "3     18538.24  Summer                   True                         0.8424   \n",
       "\n",
       "                              latest_customer_review  is_happy_customer  \n",
       "0  mal funcionamiento el artículo llego en buenas...              False  \n",
       "1  ok phone i got this phone for my mother she li...               True  \n",
       "2                          thank you. b thank you. b              False  \n",
       "3                            i love my inferno stick               True  "
      ]
     },
     "execution_count": 508,
     "metadata": {},
     "output_type": "execute_result"
    }
   ],
   "source": [
    "dirty_data.head(4)"
   ]
  },
  {
   "cell_type": "code",
   "execution_count": 509,
   "metadata": {
    "scrolled": false
   },
   "outputs": [
    {
     "name": "stdout",
     "output_type": "stream",
     "text": [
      "<class 'pandas.core.frame.DataFrame'>\n",
      "RangeIndex: 500 entries, 0 to 499\n",
      "Data columns (total 16 columns):\n",
      " #   Column                         Non-Null Count  Dtype  \n",
      "---  ------                         --------------  -----  \n",
      " 0   order_id                       500 non-null    object \n",
      " 1   customer_id                    500 non-null    object \n",
      " 2   date                           500 non-null    object \n",
      " 3   nearest_warehouse              500 non-null    object \n",
      " 4   shopping_cart                  500 non-null    object \n",
      " 5   order_price                    500 non-null    int64  \n",
      " 6   delivery_charges               500 non-null    float64\n",
      " 7   customer_lat                   500 non-null    float64\n",
      " 8   customer_long                  500 non-null    float64\n",
      " 9   coupon_discount                500 non-null    int64  \n",
      " 10  order_total                    500 non-null    float64\n",
      " 11  season                         500 non-null    object \n",
      " 12  is_expedited_delivery          500 non-null    bool   \n",
      " 13  distance_to_nearest_warehouse  500 non-null    float64\n",
      " 14  latest_customer_review         500 non-null    object \n",
      " 15  is_happy_customer              500 non-null    bool   \n",
      "dtypes: bool(2), float64(5), int64(2), object(7)\n",
      "memory usage: 55.8+ KB\n"
     ]
    }
   ],
   "source": [
    "dirty_data.info()"
   ]
  },
  {
   "cell_type": "markdown",
   "metadata": {},
   "source": [
    "Duplicate rows check."
   ]
  },
  {
   "cell_type": "code",
   "execution_count": 510,
   "metadata": {},
   "outputs": [
    {
     "data": {
      "text/plain": [
       "0"
      ]
     },
     "execution_count": 510,
     "metadata": {},
     "output_type": "execute_result"
    }
   ],
   "source": [
    "# Code to check number of duplicates in the dataframe\n",
    "len(dirty_data[dirty_data.duplicated()]) # 0 is the result"
   ]
  },
  {
   "cell_type": "markdown",
   "metadata": {},
   "source": [
    "Since, the number of duplicates are zero we can say each row is unique."
   ]
  },
  {
   "cell_type": "markdown",
   "metadata": {},
   "source": [
    "**\"check\" column for tracking the checked or corrected columns**\n",
    "\n",
    "It is given in the assignment specifications that each row has a single error and the same information can be utilized to our advantage when needed."
   ]
  },
  {
   "cell_type": "code",
   "execution_count": 511,
   "metadata": {},
   "outputs": [],
   "source": [
    "#A temperory field if created to capture error free rows in the dataset.\n",
    "dirty_data['check']=False"
   ]
  },
  {
   "cell_type": "markdown",
   "metadata": {},
   "source": [
    "The errors are searched in a specific pattern. It is clear that the data can only be fixed for a particular dependent cell when its corresponding independent cell is fixed or is error-free. "
   ]
  },
  {
   "cell_type": "markdown",
   "metadata": {},
   "source": [
    "## 3.1 is_happy_customer check\n",
    "\n",
    "A boolean denoting whether the customer is a happy customer or had an issue with his/her last order."
   ]
  },
  {
   "cell_type": "markdown",
   "metadata": {},
   "source": [
    "### 3.1.1 Exploring Errors\n",
    "\n",
    "**is_happy_customers** is checked 1st as it is directly dependent on **latest_customer_review**. **latest_customer_review** as stated in the specifications is clean. It is known that the **is_happy_customers** is dependent on **latest_customer_review**. Furthermore, the customer with None as the **latest_customer_review** is considered as a new customer. Let's check the correctness of **is_happy_customers** col and the number of errors. These errors will fall under semantic anomalies since is_happy_customers is related to latest_customer_review."
   ]
  },
  {
   "cell_type": "markdown",
   "metadata": {},
   "source": [
    "Building a function to find the correct sentiment."
   ]
  },
  {
   "cell_type": "code",
   "execution_count": 512,
   "metadata": {},
   "outputs": [],
   "source": [
    "def find_sentiment(review):\n",
    "    # Defining SentimentIntensityAnalyzer to check the sentiment.\n",
    "    sentim_analyzer = SentimentIntensityAnalyzer()\n",
    "    # Compound polarity being calculated\n",
    "    sentiment = sentim_analyzer.polarity_scores(review)['compound']\n",
    "    \n",
    "    # customer is happy if compound is greater than 0.05 or is a new customer by review as \"None\"\n",
    "    if sentiment>=0.05 or (review=='None'):\n",
    "        happy = True # customer is happy\n",
    "    else:\n",
    "        happy = False # customer is unhappy\n",
    "        \n",
    "    return happy "
   ]
  },
  {
   "cell_type": "code",
   "execution_count": 513,
   "metadata": {
    "scrolled": false
   },
   "outputs": [
    {
     "name": "stdout",
     "output_type": "stream",
     "text": [
      "Index: 2 , ERROR: False , Review: thank you. b thank you. b\n",
      "Index: 6 , ERROR: False , Review: excellent seller. would purchase from seller again product as described. excellent seller. would purchase from seller again.\n",
      "Index: 14 , ERROR: False , Review: i love my new droid mobile after using an alcon for years, i love my new droid mobile. it takes a bit to adjust but the more i have it the better it is. after a few weeks of use. no problems with phone.\n",
      "Index: 63 , ERROR: False , Review: awesome deal love the phone checked out battery, speakers, and touch screen! it was in excellent condition and was unlocked as it says! definitely worth the money and will buy from here again!! thanks\n",
      "Index: 98 , ERROR: False , Review: works great seems to be a good value. phone works great.\n",
      "\n",
      ".......................................................\n",
      "Total is_happy_customer errors: 27\n"
     ]
    }
   ],
   "source": [
    "# counter to count the number of is_happy_customer errors\n",
    "is_happy_customer_faults = 0\n",
    "\n",
    "# Iterating through the dataframe to check \n",
    "for index, row in dirty_data.iterrows():\n",
    "    \n",
    "    # Analyse sentiments by calling the find_sentiment function\n",
    "    if row['is_happy_customer']!= find_sentiment(row['latest_customer_review']):\n",
    "        # printing the latest_customer_review and their fault sentiments\n",
    "        if is_happy_customer_faults<5:\n",
    "            print(\"Index:\",index,\", ERROR:\",row['is_happy_customer'],\", Review:\",row['latest_customer_review'])\n",
    "        # increasing the error counter \n",
    "        is_happy_customer_faults = is_happy_customer_faults+1\n",
    "        #print(\"\\n\")\n",
    "    \n",
    "print(\"\\n.......................................................\")\n",
    "print(\"Total is_happy_customer errors:\",is_happy_customer_faults)"
   ]
  },
  {
   "cell_type": "markdown",
   "metadata": {},
   "source": [
    "27 is_happy_customer errors are to be fixed."
   ]
  },
  {
   "cell_type": "markdown",
   "metadata": {},
   "source": [
    "### 3.1.2 Fixing Errors"
   ]
  },
  {
   "cell_type": "markdown",
   "metadata": {},
   "source": [
    "Fixing the errors in the **is_happy_customer** cols."
   ]
  },
  {
   "cell_type": "code",
   "execution_count": 514,
   "metadata": {},
   "outputs": [],
   "source": [
    "# Iterating through the dataframe to check \n",
    "for index, row in dirty_data.iterrows():\n",
    "    # Producing error free sentiment \n",
    "    true_happy = find_sentiment(row['latest_customer_review'])\n",
    "    \n",
    "    # Analyse sentiments by calling the find_sentiment function\n",
    "    if row['is_happy_customer']!= true_happy:\n",
    "        # substituting the correct sentiment\n",
    "        dirty_data.iloc[index,dirty_data.columns.get_loc('is_happy_customer')] = true_happy\n",
    "        # Updating the check col to identify the row had an error\n",
    "        dirty_data.iloc[index,dirty_data.columns.get_loc('check')] = True"
   ]
  },
  {
   "cell_type": "markdown",
   "metadata": {},
   "source": [
    "Total number of errors encountered and fixed so far are 27."
   ]
  },
  {
   "cell_type": "code",
   "execution_count": 515,
   "metadata": {},
   "outputs": [
    {
     "data": {
      "text/plain": [
       "27"
      ]
     },
     "execution_count": 515,
     "metadata": {},
     "output_type": "execute_result"
    }
   ],
   "source": [
    "sum(dirty_data['check'])"
   ]
  },
  {
   "cell_type": "markdown",
   "metadata": {},
   "source": [
    "Error Breakdown till now:\n",
    "- 27 is_happy_customer errors"
   ]
  },
  {
   "cell_type": "markdown",
   "metadata": {},
   "source": [
    "## 3.2 customer_lat & customer_long check"
   ]
  },
  {
   "cell_type": "markdown",
   "metadata": {},
   "source": [
    "Customer location is given in longitudes and latitudes. For a position to be valid the latitudes and longitude should be from -90 to 90 and -180 to 180 respectively. Let's try and see if the fields follow the given condition.\n",
    "Since out of latitude or longitude only one can be wrong let's examine customer_lat. "
   ]
  },
  {
   "cell_type": "markdown",
   "metadata": {},
   "source": [
    "### 3.2.1 Exploring Errors"
   ]
  },
  {
   "cell_type": "code",
   "execution_count": 516,
   "metadata": {
    "scrolled": false
   },
   "outputs": [
    {
     "name": "stdout",
     "output_type": "stream",
     "text": [
      "\n",
      "Few Error positions\n",
      "     customer_lat  customer_long\n",
      "32     144.969573     -37.814543\n",
      "77     144.948950     -37.808890\n",
      "92     144.984801     -37.812884\n",
      "96     144.962478     -37.823805\n",
      "125    144.947178     -37.818903\n",
      "135    144.953623     -37.817036\n",
      "153    144.973653     -37.805352\n",
      "158    144.948643     -37.800467\n",
      "173    144.967145     -37.821538\n",
      "174    144.937396     -37.816201\n",
      "\n",
      "Few correct positions\n",
      "   customer_lat  customer_long\n",
      "0    -37.813074     144.951563\n",
      "1    -37.800689     144.994321\n",
      "2    -37.814016     144.936078\n",
      "3    -37.809084     144.955502\n",
      "4    -37.806441     144.999719\n",
      "5    -37.806849     144.997909\n",
      "6    -37.817815     144.974636\n",
      "7    -37.802895     144.948611\n",
      "8    -37.813511     144.965592\n",
      "9    -37.801942     144.926916\n",
      "\n",
      "........................................................\n",
      "Total customer_lat & customer_long errors: 27\n"
     ]
    }
   ],
   "source": [
    "# Condition to check if latitude is not in the range -90 to 90.\n",
    "lat_condition = (abs(dirty_data.customer_lat)>90)\n",
    "\n",
    "# Let's print and see the errors\n",
    "print(\"\\nFew Error positions\")\n",
    "print(dirty_data.loc[lat_condition,['customer_lat','customer_long']][:10])\n",
    "\n",
    "# let's print some correct values\n",
    "print(\"\\nFew correct positions\")\n",
    "print(dirty_data.loc[False==lat_condition,['customer_lat','customer_long']][:10])\n",
    "\n",
    "# Printing the Number of errors in postion\n",
    "print(\"\\n........................................................\")\n",
    "print(\"Total customer_lat & customer_long errors:\",sum(lat_condition)) # 27 Position condition errors"
   ]
  },
  {
   "cell_type": "markdown",
   "metadata": {},
   "source": [
    "The error presented with position coordinates can be fixed by swapping the customer_lat and customer_long. Furthermore, it can be seen that customer_lat is always greater than customer_long in errors. These errors will fall under semantic anomalies since we they are related to one another."
   ]
  },
  {
   "cell_type": "markdown",
   "metadata": {},
   "source": [
    "### 3.2.2 Fixing Errors"
   ]
  },
  {
   "cell_type": "code",
   "execution_count": 517,
   "metadata": {},
   "outputs": [],
   "source": [
    "# customer_lat are always greater customer_long for errors\n",
    "wrongDataIdx = (dirty_data['customer_lat'] > dirty_data['customer_long'])\n",
    "\n",
    "# Swapping them in the next step for true values\n",
    "# Fixing 27 position errors\n",
    "dirty_data.loc[wrongDataIdx,['customer_lat','customer_long']]=dirty_data.loc[wrongDataIdx,['customer_long','customer_lat']].values\n",
    "\n",
    "# Upadting the check col for fixed error rows\n",
    "for index in range(len(wrongDataIdx)):\n",
    "    # if index is true than error is fixed\n",
    "    if wrongDataIdx[index]==True: \n",
    "        # updating check  col for fixed errors\n",
    "        dirty_data.iloc[index,dirty_data.columns.get_loc('check')]=True"
   ]
  },
  {
   "cell_type": "markdown",
   "metadata": {},
   "source": [
    "Total number of errors encountered and fixed so far is 54."
   ]
  },
  {
   "cell_type": "code",
   "execution_count": 518,
   "metadata": {},
   "outputs": [
    {
     "data": {
      "text/plain": [
       "54"
      ]
     },
     "execution_count": 518,
     "metadata": {},
     "output_type": "execute_result"
    }
   ],
   "source": [
    "# Total resolved errors\n",
    "sum(dirty_data['check'])"
   ]
  },
  {
   "cell_type": "markdown",
   "metadata": {},
   "source": [
    "Error Breakdown till now:\n",
    "- 27 is_happy_customer errors\n",
    "- 27 customer_lat & customer_long errors"
   ]
  },
  {
   "cell_type": "markdown",
   "metadata": {},
   "source": [
    "## 3.3 distance_to_nearest_warehouse & nearest_warehouse check"
   ]
  },
  {
   "cell_type": "markdown",
   "metadata": {},
   "source": [
    "After rectifying the coordinates it is best to work on distance_to_nearest_warehouse and nearest_warehouse. It is perfectly clear that nearest_warehouse and distance_to_nearest_warehouse are dependent on customer coordinates. \n",
    "\n",
    "From the customer coordinates, we can find the nearest coordinate (of the correct nearest_warehouse and respective correct distance_to_nearest_warehouse) out of the 3 warehouse coordinate given in the \"warehouse.csv\" data. "
   ]
  },
  {
   "cell_type": "markdown",
   "metadata": {},
   "source": [
    "**Loading warehouse data for warehouse coordinates**"
   ]
  },
  {
   "cell_type": "code",
   "execution_count": 519,
   "metadata": {},
   "outputs": [
    {
     "name": "stdout",
     "output_type": "stream",
     "text": [
      "       names        lat         lon\n",
      "0  Nickolson -37.818595  144.969551\n",
      "1   Thompson -37.812673  144.947069\n",
      "2     Bakers -37.809996  144.995232\n"
     ]
    }
   ],
   "source": [
    "warehouse = pd.read_csv('warehouses.csv')\n",
    "print(warehouse)"
   ]
  },
  {
   "cell_type": "markdown",
   "metadata": {},
   "source": [
    "Row number and names in warehouse dataframe :\n",
    "- 0 : Nickolson \n",
    "- 1 : Thompson \n",
    "- 2 : Bakers"
   ]
  },
  {
   "cell_type": "markdown",
   "metadata": {},
   "source": [
    "### 3.3.1 Exploring Errors"
   ]
  },
  {
   "cell_type": "markdown",
   "metadata": {},
   "source": [
    "The following function will be utilised to find the correct nearest warehouse to the customer and the distance."
   ]
  },
  {
   "cell_type": "code",
   "execution_count": 520,
   "metadata": {},
   "outputs": [],
   "source": [
    "# Function to return the nearest warehouse and it's distance to the customer\n",
    "# Input is the error free customer lat and long.\n",
    "def distance(lat2,lon2):\n",
    "    \n",
    "    # Temporary dictionary with key as warehouse name and value as distance\n",
    "    # key:value== warehouse name : distance from customer\n",
    "    list_distance = dict() \n",
    "    \n",
    "    # calling the distance_to function to return the distance to 'Nickolson' warehouse\n",
    "    list_distance['Nickolson'] = distance_to(0,lat2,lon2) # 0 row is for Nickolson in warehouse data   \n",
    "    # calling the distance_to function to return the distance to 'Thompson' warehouse\n",
    "    list_distance['Thompson'] = distance_to(1,lat2,lon2) # 1 row is for Thompson in warehouse data   \n",
    "    # calling the distance_to function to return the distance to 'Bakers' warehouse\n",
    "    list_distance['Bakers']= distance_to(2,lat2,lon2) # 2 row is for Bakers in warehouse data\n",
    "    \n",
    "    # Sorting the dictionary on the bases of distance as it is the value\n",
    "    list_distance = sorted(list_distance.items(), key=lambda x: x[1])\n",
    "    \n",
    "    # Catching the nearest warehouse and corresponding distance from the sorted dictionary\n",
    "    warehouse_name = list_distance[0][0] # nearest warehouse\n",
    "    distance_shortest = list_distance[0][1] # distance\n",
    "    \n",
    "    # returning the accurate nearest warehouse and shortest distance\n",
    "    return (warehouse_name,distance_shortest)\n",
    "\n",
    "\n",
    "# Function is formed to find the distance in km from one coordinate to another.\n",
    "# Input to this function is customer coordinates & warehouse row index corresponding to a particular warehouse\n",
    "def distance_to(DataIdx,lat2,lon2):\n",
    "    \n",
    "    # Warehouse latitude at index \"DataIdx\"\n",
    "    lat1 = warehouse.loc[DataIdx,['lat']]\n",
    "    # Warehouse longitude at index \"DataIdx\"\n",
    "    lon1 = warehouse.loc[DataIdx,['lon']]\n",
    "    \n",
    "    # Radius of earth needed for calculation\n",
    "    radius_earth = 6378 \n",
    "    \n",
    "    # finding the radian distance for lats and longs\n",
    "    distance_latitude = math.radians(lat2-lat1)\n",
    "    distance_longitude = math.radians(lon2-lon1)\n",
    "    \n",
    "    # Calculating the distance in degrees \n",
    "    # part_a = sinMsinN+cosAcosB+sinKsinL\n",
    "    # Applying mathematical formula to find distance in km.\n",
    "    part_a = math.sin(distance_latitude/2) * math.sin(distance_latitude/2) + math.cos(math.radians(lat1)) * math.cos(math.radians(lat2))\\\n",
    "        * math.sin(distance_longitude/2) * math.sin(distance_longitude/2)\n",
    "    part_c = 2 * math.atan2(math.sqrt(part_a), math.sqrt(1-part_a))\n",
    "    #The distance in degrees is found in kms\n",
    "    part_d = radius_earth * part_c\n",
    "    \n",
    "    # Returing the rounded distance to 4 decimal places. \n",
    "    # Rounded to 4 decimal places because distance_to_nearest_warehouse col has values rounded to 4 decimal places\n",
    "    return round(part_d,4) \n"
   ]
  },
  {
   "cell_type": "markdown",
   "metadata": {},
   "source": [
    "Finding the number of errors. The errors fall under semantic anomalies."
   ]
  },
  {
   "cell_type": "code",
   "execution_count": 521,
   "metadata": {},
   "outputs": [
    {
     "name": "stdout",
     "output_type": "stream",
     "text": [
      "Printing the 1st 3 errors:\n",
      "\n",
      "Accuarte nearest_warehouse: Bakers Error: thompson Index: 1 \n",
      "\n",
      "Accuarte distance: 1.5074 Error: 0.2247 Index: 19 \n",
      "\n",
      "Accuarte nearest_warehouse: Nickolson Error: bakers Index: 29 \n",
      "\n",
      "Accuarte distance: 0.9147 Error: 0.9759 Index: 46 \n",
      "\n",
      ".........................\n",
      "Total nearest_warehouse errors: 27\n",
      "Total distance_to_nearest_warehouse errors: 27\n"
     ]
    }
   ],
   "source": [
    "# Adjusting the data to 4 decimal places as most of the data in distance_to_nearest_warehouse is rounded to 4\n",
    "# Some values were found not to be not rounded to 4 which was seen in the csv file\n",
    "dirty_data['distance_to_nearest_warehouse']= round(dirty_data['distance_to_nearest_warehouse'],4)\n",
    "\n",
    "# Counter to count warehouse name error\n",
    "warehouse_error = 0\n",
    "# Counter to count nearest distance error\n",
    "distance_error = 0\n",
    "\n",
    "#Iterating through the rows to find the number of nearest_warehouse and  distance_to_nearest_warehouse errors\n",
    "# Printing 1st 2 errors in nearest_warehouse and distance_to_nearest_warehouse.\n",
    "print(\"Printing the 1st 3 errors:\\n\")\n",
    "for index, row in dirty_data.iterrows():\n",
    "\n",
    "    # Calling distance function to return the nearest warehouse and it's distance from customer lat and long\n",
    "    distance_km = distance(row['customer_lat'],row['customer_long'])\n",
    "    \n",
    "    # Checking for error in nearest_warehouse\n",
    "    if distance_km[0]!=row['nearest_warehouse']:\n",
    "        # if found increment the warehouse_error counter\n",
    "        warehouse_error = warehouse_error +1\n",
    "        if (warehouse_error<3):\n",
    "            print(\"Accuarte nearest_warehouse:\",distance_km[0],\"Error:\",row['nearest_warehouse'],\"Index:\",index,\"\\n\")\n",
    "    \n",
    "    # Checking for error in distance_to_nearest_warehouse\n",
    "    elif distance_km[1]!=row['distance_to_nearest_warehouse']:\n",
    "        # if found increment the distance_error counter       \n",
    "        distance_error = distance_error +1\n",
    "        if (distance_error<3):\n",
    "            print(\"Accuarte distance:\",distance_km[1],\"Error:\",row['distance_to_nearest_warehouse'],\"Index:\",index,\"\\n\")\n",
    "\n",
    "            \n",
    "print(\".........................\")\n",
    "print(\"Total nearest_warehouse errors:\",warehouse_error)\n",
    "print(\"Total distance_to_nearest_warehouse errors:\",distance_error)"
   ]
  },
  {
   "cell_type": "markdown",
   "metadata": {},
   "source": [
    "### 3.3.2 Fixing Errors"
   ]
  },
  {
   "cell_type": "markdown",
   "metadata": {},
   "source": [
    "It is interesting to see that \"nearest_warehouse\" errors and \"distance_to_nearest_warehouse\" are 27 each."
   ]
  },
  {
   "cell_type": "code",
   "execution_count": 522,
   "metadata": {},
   "outputs": [],
   "source": [
    "#Iterating through the rows to find the number of nearest_warehouse and  distance_to_nearest_warehouse errors\n",
    "for index, row in dirty_data.iterrows():\n",
    "    # Calling distance function to return the nearest warehouse and it's distance from customer lat and long\n",
    "    distance_km = distance(row['customer_lat'],row['customer_long']) #0th index has \n",
    "    \n",
    "    # Checking for errors in nearest_warehouse or distance_to_nearest_warehouse col.\n",
    "    if distance_km!=(row['nearest_warehouse'],row['distance_to_nearest_warehouse']):\n",
    "        \n",
    "        # Rectifying \"distance_to_nearest_warehouse\" cell.\n",
    "        dirty_data.iloc[index,dirty_data.columns.get_loc('distance_to_nearest_warehouse')] =  distance_km[1]\n",
    "        # Rectifying \"nearest_warehouse\" cell.\n",
    "        dirty_data.iloc[index,dirty_data.columns.get_loc('nearest_warehouse')] =  distance_km[0]\n",
    "        \n",
    "        # updating check col for fixed errors\n",
    "        dirty_data.iloc[index,dirty_data.columns.get_loc('check')]=True\n",
    "        "
   ]
  },
  {
   "cell_type": "markdown",
   "metadata": {},
   "source": [
    "Total number of errors encountered and fixed so far is 108."
   ]
  },
  {
   "cell_type": "code",
   "execution_count": 523,
   "metadata": {},
   "outputs": [
    {
     "data": {
      "text/plain": [
       "108"
      ]
     },
     "execution_count": 523,
     "metadata": {},
     "output_type": "execute_result"
    }
   ],
   "source": [
    "sum(dirty_data['check'])"
   ]
  },
  {
   "cell_type": "markdown",
   "metadata": {},
   "source": [
    "Error Breakdown till now:\n",
    "- 27 is_happy_customer errors\n",
    "- 27 customer_lat & customer_long errors\n",
    "- 27 distance_to_nearest_warehouse errors\n",
    "- 27 nearest_warehouse errors"
   ]
  },
  {
   "cell_type": "markdown",
   "metadata": {},
   "source": [
    "## 3.4 season & date check"
   ]
  },
  {
   "cell_type": "markdown",
   "metadata": {},
   "source": [
    "As the date format follows a 'YYYY-MM-DD' format in the dataset. Let's check if it is similar to the given requirements. Here, I am only checking the pattern as XXXX-XX-XX and not comparing YYYY-MM-DD to YYYY-MM-DD. Further checks and exploration on the order of month and date will be done later while correcting the errors.  "
   ]
  },
  {
   "cell_type": "code",
   "execution_count": 524,
   "metadata": {},
   "outputs": [
    {
     "data": {
      "text/plain": [
       "488"
      ]
     },
     "execution_count": 524,
     "metadata": {},
     "output_type": "execute_result"
    }
   ],
   "source": [
    "# Data points which follow \"XXXX-XX-XX\" pattern\n",
    "sum(dirty_data['date'].str.match('[0-9]{4}-[0-9]{2}-[0-9]{2}')) \n",
    "# 488 follow XXXX-XX-XX pattern\n",
    "# This doesn't mean they all are in \"YYYY-MM-DD\" format"
   ]
  },
  {
   "cell_type": "code",
   "execution_count": 525,
   "metadata": {},
   "outputs": [
    {
     "data": {
      "text/plain": [
       "12"
      ]
     },
     "execution_count": 525,
     "metadata": {},
     "output_type": "execute_result"
    }
   ],
   "source": [
    "# Data points which follow \"XX-XX-XXXX\" pattern\n",
    "sum(dirty_data['date'].str.match('[0-9]{2}-[0-9]{2}-[0-9]{4}')) \n",
    "# 12 follow XX-XX-XXXX pattern\n",
    "# This doesn't mean they all are in \"MM-DD-YYY\" or \"DD-MM-YYY\" format"
   ]
  },
  {
   "cell_type": "markdown",
   "metadata": {},
   "source": [
    "Season and Date are related to each other. A correct date is good to find the season. Furthermore, the correct season can be utilized to verify a date. \n",
    "The above code clearly specifies that we have  488 rows following the \"XXXX-XX-XX\" pattern but we don't know what all are correct. And season field is dependent on the month. \n",
    "Furthermore, 12 records don't follow the \"YYYY-MM-DD\" and have a pattern  like \"XX-XX-XXXX\".\n",
    "\n",
    "Out of date and season, only one can have an error in the given dataset and this fact is taken into the discussion.\n",
    "The acceptable date format is \"YYYY-MM-DD\".\n",
    "Now we have the following cases to think about for the date and seasons be fixed:\n",
    "- **Case A**: Data in \"xxxx-x'x'-xx\" format.\n",
    "    - Case A1: But x'x' is greater than 12----Meaning the **date** is in \"YYYY-DD-MM\" format and needs to be fixed to \"YYYY-MM-DD\" by swapping x'x' with xx. In this case, the season value is correct as only one field can be wrong in a row.\n",
    "    - Case A2: If x'x' is less than 12 --- Meaning the **season** is wrong and can be corrected by using the month part of the date. Furthermore, we don't have to ponder on the date as it already exists in \"YYY-MM-DD\" format.\n",
    "- **Case B**: Data in \"xx-x'x'-xxxx\" format.This condition suggests that Season is correct. **Date** is an error.\n",
    "    - Case B1: The date is in the format \"DD-MM-YYYY\" by checking season for the month x'x' . This can be fixed by reversing the date format to \"YYYY-MM-DD\".  If this case is false, move to case 2.\n",
    "    - Case B2 : The date is in the format \"MM-DD-YYYY\". This can be fixed by shuffling \"xx-x'x'-xxxx\" to \"xxxx-xx-x'x'\" to make it in the form \"YYYY-MM-DD\".\n",
    "    \n",
    "The errors will fall under semantic and syntactic anomalies. Since, date and season string fromat is syntactic anomaly while a violation of relation between them will lead to semantic anomaly. The below code follows the above case examination and corresponding error removal is done."
   ]
  },
  {
   "cell_type": "code",
   "execution_count": 526,
   "metadata": {},
   "outputs": [],
   "source": [
    "# Making a dictionary to store month number and corresponding season \n",
    "season_dict = dict()\n",
    "# KEY is month number and VALUE is season\n",
    "season_dict = {1:'Summer',2:'Summer',12:'Summer',3:'Autumn',4:'Autumn',5:'Autumn',\n",
    "               6:'Winter',7:'Winter',8:'Winter',9:'Spring',10:'Spring',11:'Spring'}"
   ]
  },
  {
   "cell_type": "markdown",
   "metadata": {},
   "source": [
    "let's make a date and season check function."
   ]
  },
  {
   "cell_type": "code",
   "execution_count": 527,
   "metadata": {},
   "outputs": [],
   "source": [
    "# Date and season check function \n",
    "# Inputs the date string and the season string for a partiicular row\n",
    "def date_check(text,season):\n",
    "    \n",
    "    # assigning the date string to a temporary string\n",
    "    # let's assume date string.\n",
    "    text_temp = text\n",
    "    \n",
    "    # Splitting the date string to a list with \"XXXX\", \"X'X'\" and \"XX\" as the compnents. Can be in any order.\n",
    "    temp_list = text.split(\"-\") # splitting the date to a list\n",
    "    \n",
    "    \n",
    "    # Case A\n",
    "    if int(temp_list[1])>12: \n",
    "        # if true follow Case A1 if false check for Case B       \n",
    "        # date in \"YYYY-DD-MM\" format\n",
    "        month  = temp_list[2] #extracting month from list and is at the 2nd index \n",
    "        date = temp_list[1] #extracting date from list and is at the 1st index \n",
    "        year = temp_list[0] #extracting date from list and is at the 0th index \n",
    "        \n",
    "        #joining the string to the desired format for Case A1.\n",
    "        text = year+\"-\"+month+\"-\"+date\n",
    "        # Returning the Season and date\n",
    "        return(season.capitalize(),text)\n",
    "    \n",
    "    # Case B\n",
    "    elif len(temp_list[2])>3:\n",
    "    # If true date in \"xx-x'x'-xxxx\" and season is correct    \n",
    "        # Case B1\n",
    "        # season_dict[int(temp_list[1])] if to find the season for the month.\n",
    "        if season.capitalize() ==season_dict[int(temp_list[1])]:\n",
    "            # Case B1 is true\n",
    "            # If true that means the 1st index element of \"xx-x'x'-xxxx\" split is a month.\n",
    "            month = temp_list[1] # extracting month from list and is at the 1st index \n",
    "            date = temp_list[0] #extracting date from list and is at the 0th index \n",
    "            year = temp_list[2] # extracting year from list and is at the 2nd index \n",
    "            \n",
    "            \n",
    "        # Case B2 is true\n",
    "        else:\n",
    "            # The string is in \"MM-DD-YYYY\" format and is an error.\n",
    "            month = temp_list[0] # extracting month from list and is at the 0th index\n",
    "            date = temp_list[1] #extracting date from list and is at the 1st index \n",
    "            year = temp_list[2] # extracting year from list and is at the 2nd index\n",
    "        \n",
    "        #joining the string to the desired format for Case B  \n",
    "        text = year+\"-\"+month+\"-\"+date\n",
    "        # Returning the Season,date \n",
    "        return(season.capitalize(),text)\n",
    "    \n",
    "    \n",
    "    # Case A2 is left to treat. The date is correct but the season should corresond to the month.\n",
    "    # joining the string to the desired format for Case A2 \n",
    "    text = temp_list[0]+\"-\"+temp_list[1]+\"-\"+temp_list[2]\n",
    "    # Returning the Season of the corresponding month and the  date\n",
    "    return (season_dict[int(temp_list[1])],text)"
   ]
  },
  {
   "cell_type": "markdown",
   "metadata": {},
   "source": [
    "### 3.4.1 Exploring Errors"
   ]
  },
  {
   "cell_type": "markdown",
   "metadata": {},
   "source": [
    "Finding total errors for season and date col. "
   ]
  },
  {
   "cell_type": "code",
   "execution_count": 528,
   "metadata": {
    "scrolled": true
   },
   "outputs": [
    {
     "name": "stdout",
     "output_type": "stream",
     "text": [
      "Printing some Season and Date errors:\n",
      "\n",
      "***Season Error***\n",
      " Error Season: Spring , Accurate Season: Winter , Date: 2019-06-02\n",
      "\n",
      "***Season Error***\n",
      " Error Season: winter , Accurate Season: Autumn , Date: 2019-04-23\n",
      "\n",
      "***Date Error***\n",
      " Error Date: 2019-20-03 , Accurate Date: 2019-03-20 , Season: Autumn\n",
      "\n",
      "***Date Error***\n",
      " Error Date: 2019-19-07 , Accurate Date: 2019-07-19 , Season: Winter\n",
      "\n",
      ".........................\n",
      "Total Date Errors: 27 \n",
      "Total Season Errors: 27\n"
     ]
    }
   ],
   "source": [
    "# Initializing counter to counte date and season error\n",
    "date_error = 0\n",
    "season_error = 0 \n",
    "\n",
    "print(\"Printing some Season and Date errors:\")\n",
    "\n",
    "# Iterating to check for possible errors\n",
    "for index, row in dirty_data.iterrows():   \n",
    "    # Finding the accurate season and date pair\n",
    "    season_correct,date_correct = date_check(row['date'],row['season'])\n",
    "    \n",
    "    # If same than no season error is reported.\n",
    "    if season_correct != row['season']: \n",
    "        \n",
    "        # incrementinng season error when encountered\n",
    "        season_error = season_error +1\n",
    "        \n",
    "        # printing less than 3  season errors\n",
    "        if season_error<3:\n",
    "            # Printing the errors and it's accurate value\n",
    "            print(\"\\n***Season Error***\\n\",\"Error Season:\",row['season'],\", Accurate Season:\",season_correct,\", Date:\",row['date'])\n",
    "               \n",
    "        \n",
    "    # Date error checking\n",
    "    elif row['date']!= date_correct:\n",
    "        \n",
    "        # incrementinng date error when encountered            \n",
    "        date_error = date_error +1\n",
    "        \n",
    "        # printing less than 3  date errors\n",
    "        if date_error<3:\n",
    "            # Printing the errors and it's accurate value\n",
    "            print(\"\\n***Date Error***\\n\",\"Error Date:\",row['date'],\", Accurate Date:\",date_correct,\", Season:\",row['season'])\n",
    "\n",
    "print(\"\\n.........................\")\n",
    "print(\"Total Date Errors:\",date_error,\"\\nTotal Season Errors:\",season_error)"
   ]
  },
  {
   "cell_type": "markdown",
   "metadata": {},
   "source": [
    "Some errors are printed above along with the correct values. It shows where the error is."
   ]
  },
  {
   "cell_type": "markdown",
   "metadata": {},
   "source": [
    "### 3.4.2 Fixing Error"
   ]
  },
  {
   "cell_type": "code",
   "execution_count": 529,
   "metadata": {},
   "outputs": [],
   "source": [
    "# Fixing the errors by substituting the correct \n",
    "for index, row in dirty_data.iterrows():\n",
    "    # Finding the accurate season and date values\n",
    "    season_correct,date_correct = date_check(row['date'],row['season'])\n",
    "    \n",
    "    # if date or season is inaccurate they are fixed\n",
    "    if (row['date']!= date_correct or row['season']!=season_correct):# and row['check']==False:\n",
    "        # Season col update\n",
    "        dirty_data.iloc[index,dirty_data.columns.get_loc('season')] =  season_correct\n",
    "        # Date col update\n",
    "        dirty_data.iloc[index,dirty_data.columns.get_loc('date')] =  date_correct\n",
    "        # check col is updated\n",
    "        dirty_data.iloc[index,dirty_data.columns.get_loc('check')] = True"
   ]
  },
  {
   "cell_type": "markdown",
   "metadata": {},
   "source": [
    "Total number of errors encountered and fixed so far is 162."
   ]
  },
  {
   "cell_type": "code",
   "execution_count": 530,
   "metadata": {},
   "outputs": [
    {
     "data": {
      "text/plain": [
       "162"
      ]
     },
     "execution_count": 530,
     "metadata": {},
     "output_type": "execute_result"
    }
   ],
   "source": [
    "sum(dirty_data['check'])"
   ]
  },
  {
   "cell_type": "markdown",
   "metadata": {},
   "source": [
    "Error Breakdown till now:\n",
    "- 27 is_happy_customer errors\n",
    "- 27 customer_lat & customer_long errors\n",
    "- 27 distance_to_nearest_warehouse errors\n",
    "- 27 nearest_warehouse errors\n",
    "- 27 date errors\n",
    "- 27 season errors"
   ]
  },
  {
   "cell_type": "markdown",
   "metadata": {},
   "source": [
    "Seems every col has 27 errors!!! Interesting."
   ]
  },
  {
   "cell_type": "markdown",
   "metadata": {},
   "source": [
    "## 3.5 order_price, order_total and shopping_cart check"
   ]
  },
  {
   "cell_type": "markdown",
   "metadata": {},
   "source": [
    "### 3.5.1 Shopping Cart & Item Price Evaluation"
   ]
  },
  {
   "cell_type": "markdown",
   "metadata": {},
   "source": [
    "Asssement Notes:\n",
    "**6. The retail store focuses only on 10 branded items and sells them at competitive prices.**\n",
    "\n",
    "In the assessment notes it is clearly stated that there are 10 items sold by the retail store. So let's find what are they.1st let's study the structure of the shopping_cart col. "
   ]
  },
  {
   "cell_type": "code",
   "execution_count": 531,
   "metadata": {},
   "outputs": [
    {
     "data": {
      "text/plain": [
       "0    [('iAssist Line', 2), ('iStream', 2), ('pearTV...\n",
       "1            [('Toshika 750', 2), ('iAssist Line', 2)]\n",
       "2    [('iStream', 2), ('Alcon 10', 1), ('Universe N...\n",
       "3    [('Thunder line', 1), ('Universe Note', 2), ('...\n",
       "4    [('Lucent 330S', 1), ('iStream', 1), ('pearTV'...\n",
       "5    [('Candle Inferno', 1), ('Lucent 330S', 2), ('...\n",
       "6    [('Thunder line', 1), ('Candle Inferno', 2), (...\n",
       "7                [('iAssist Line', 2), ('iStream', 1)]\n",
       "8           [('Toshika 750', 2), ('Universe Note', 2)]\n",
       "9    [('Lucent 330S', 1), ('iStream', 2), ('Toshika...\n",
       "Name: shopping_cart, dtype: object"
      ]
     },
     "execution_count": 531,
     "metadata": {},
     "output_type": "execute_result"
    }
   ],
   "source": [
    "# Printing 10 rows of shopping cart to study the structure\n",
    "dirty_data.shopping_cart[:10]"
   ]
  },
  {
   "cell_type": "markdown",
   "metadata": {},
   "source": [
    "The cart is a list of tuples. And each tuple has an item name with the quantity of the item bought."
   ]
  },
  {
   "cell_type": "code",
   "execution_count": 532,
   "metadata": {},
   "outputs": [],
   "source": [
    "# Item set initialised to store all unique items.\n",
    "item_set = set()\n",
    "\n",
    "# Iterating rows in the dirty_data \n",
    "for index, row in dirty_data.iterrows():\n",
    "    # running a loop on the list \n",
    "    for i in eval(dirty_data.iloc[index,dirty_data.columns.get_loc('shopping_cart')]):\n",
    "        # each tuple has a item and quantity pair\n",
    "        # 0th index of the tuple the item name is specified which is appended to the set \n",
    "        item_set.add(i[0])  \n",
    "\n",
    "# Sorting the set to a list.\n",
    "# Items in alphabetical order\n",
    "item_list = sorted(list(item_set))"
   ]
  },
  {
   "cell_type": "markdown",
   "metadata": {},
   "source": [
    "The 10 unique items are given below."
   ]
  },
  {
   "cell_type": "code",
   "execution_count": 533,
   "metadata": {},
   "outputs": [
    {
     "name": "stdout",
     "output_type": "stream",
     "text": [
      "['Alcon 10', 'Candle Inferno', 'Lucent 330S', 'Olivia x460', 'Thunder line', 'Toshika 750', 'Universe Note', 'iAssist Line', 'iStream', 'pearTV']\n"
     ]
    }
   ],
   "source": [
    "print(item_list)"
   ]
  },
  {
   "cell_type": "markdown",
   "metadata": {},
   "source": [
    "Let's find the price of each item as it is said they are sold at a competitive price by the retailer. This can only be done by taking \"order_price\" into consideration but not all rows in the dataset have the correct \"order_price\". To solve this issue it is most accurate to take rows which are already error-free i.e. for check col to be equal to \"True\".\n",
    "Furthermore, 10 equations linear equations for 10 variables in other words 10 rows for 10 variables."
   ]
  },
  {
   "cell_type": "code",
   "execution_count": 534,
   "metadata": {
    "scrolled": true
   },
   "outputs": [
    {
     "name": "stdout",
     "output_type": "stream",
     "text": [
      "                                        shopping_cart  order_price\n",
      "1           [('Toshika 750', 2), ('iAssist Line', 2)]        13090\n",
      "2   [('iStream', 2), ('Alcon 10', 1), ('Universe N...        16150\n",
      "6   [('Thunder line', 1), ('Candle Inferno', 2), (...         6490\n",
      "11               [('iAssist Line', 1), ('pearTV', 2)]        14845\n",
      "14  [('iStream', 2), ('Alcon 10', 1), ('Candle Inf...         9680\n",
      "19  [('Toshika 750', 1), ('iAssist Line', 2), ('Th...        10950\n",
      "26  [('Alcon 10', 1), ('Universe Note', 2), ('Luce...        17080\n",
      "29  [('Alcon 10', 2), ('Thunder line', 1), ('Olivi...        25755\n",
      "31               [('iStream', 2), ('Olivia x460', 2)]         2750\n",
      "32          [('Lucent 330S', 1), ('Thunder line', 1)]         3410\n"
     ]
    }
   ],
   "source": [
    "# 10 rows are selected and stored in a dataframe names true_data # 10 equations , 10 variables\n",
    "true_data = dirty_data[dirty_data.check==True][:10]\n",
    "# Printing shopping_cart and order_price details of true_data\n",
    "print(true_data[[\"shopping_cart\",\"order_price\"]])"
   ]
  },
  {
   "cell_type": "markdown",
   "metadata": {},
   "source": [
    "To find the value of each variable a 10x10 matrix to store variable coefficients of each equation is to be formed. Each equation is formed by taking the item name as the variable and quantity as the coefficient from the \"shopping_cart\" attribute. "
   ]
  },
  {
   "cell_type": "markdown",
   "metadata": {},
   "source": [
    "**Linear Equation format** \n",
    "\n",
    "    \n",
    "**y = a$*$X_0 + b$*$x_1+ c$*$x_2+ d$*$x_3+ n$*$x_4 + m$*$x_5 + k$*$x_6 + l$*$x_7 + p$*$x_8 + g$*$x_9**\n",
    "\n",
    "where,\n",
    "- y is the order_price \n",
    "- and a$*$x_0 + b$*$x_1+ c$*$x_2+... + g$*$x_9 is the summation of product of coefficient and corresponding variable."
   ]
  },
  {
   "cell_type": "code",
   "execution_count": 535,
   "metadata": {},
   "outputs": [],
   "source": [
    "# Linear Equation format : y = a*x_0 + b*x_1+ c*x_2+ d*x_3+ n*x_4 + m*x_5 + k*x_6 + l*x_7 + p*x_8 + g*x_9\n",
    "# where y is the order_price\n",
    "# and a*x_0 + b*x_1+ c*x_2+....+ g*x_9 is the summation of product of coeff and corresponding variable.\n",
    "\n",
    "# 10*10 matrix initialisation storing a,b,c,c...and g values\n",
    "matrix = list()\n",
    "\n",
    "# List of y that is the order_price for each equation\n",
    "y = list()\n",
    "\n",
    "# Iterating throw true_data to form a matrix\n",
    "for index, row in true_data.iterrows():\n",
    "    \n",
    "    # converting string to it's corresponging value\n",
    "    cart = eval(row['shopping_cart'])\n",
    "    \n",
    "    # Making a temp coeff list for an individual shopping cart\n",
    "    # initialising each coeff to 0 for each variable\n",
    "    coeff_list = [0]*10\n",
    "    \n",
    "    # iterating through the cart to update the coeff for each item occuring in the cart.\n",
    "    for i in cart:\n",
    "        coeff_list[item_list.index(i[0])]=i[1]\n",
    "    \n",
    "    # appending the coeff_list to the matrix to hold 10 coeff lists of 10 variables\n",
    "    # a*x_0 + b*x_1+ c*x_2+ d*x_3+ n*x_4 + m*x_5 + k*x_6 + l*x_7 + p*x_8 + g*x_9\n",
    "    matrix.append(coeff_list)\n",
    "    \n",
    "    # appending the order price (y) of the shopping cart to form a linear equation\n",
    "    y.append(row['order_price'])"
   ]
  },
  {
   "cell_type": "markdown",
   "metadata": {},
   "source": [
    "The coefficient matrix formed."
   ]
  },
  {
   "cell_type": "code",
   "execution_count": 536,
   "metadata": {
    "scrolled": true
   },
   "outputs": [
    {
     "data": {
      "text/plain": [
       "[[0, 0, 0, 0, 0, 2, 0, 2, 0, 0],\n",
       " [1, 0, 0, 0, 0, 0, 2, 0, 2, 0],\n",
       " [0, 2, 0, 0, 1, 0, 1, 0, 0, 0],\n",
       " [0, 0, 0, 0, 0, 0, 0, 1, 0, 2],\n",
       " [1, 1, 0, 0, 0, 0, 0, 0, 2, 0],\n",
       " [0, 0, 0, 0, 1, 1, 0, 2, 0, 0],\n",
       " [1, 0, 1, 0, 0, 0, 2, 0, 0, 0],\n",
       " [2, 0, 0, 1, 1, 0, 0, 2, 0, 0],\n",
       " [0, 0, 0, 2, 0, 0, 0, 0, 2, 0],\n",
       " [0, 0, 1, 0, 1, 0, 0, 0, 0, 0]]"
      ]
     },
     "execution_count": 536,
     "metadata": {},
     "output_type": "execute_result"
    }
   ],
   "source": [
    "# Coeffecient matrix for 10 equations\n",
    "matrix"
   ]
  },
  {
   "cell_type": "markdown",
   "metadata": {},
   "source": [
    "Price of each item."
   ]
  },
  {
   "cell_type": "code",
   "execution_count": 537,
   "metadata": {},
   "outputs": [],
   "source": [
    "# Converting matrix to a 2D array\n",
    "A = np.array(matrix)\n",
    "# Converting y into an array\n",
    "B = np.array(y)\n",
    "\n",
    "# Now solving the linear equations by utilisind linalg in numpy\n",
    "# X is the price for each item in the item_list\n",
    "# item_list and price in X are in the same order.\n",
    "X = np.linalg.solve(A,B)"
   ]
  },
  {
   "cell_type": "code",
   "execution_count": 538,
   "metadata": {},
   "outputs": [
    {
     "name": "stdout",
     "output_type": "stream",
     "text": [
      "['Alcon 10', 'Candle Inferno', 'Lucent 330S', 'Olivia x460', 'Thunder line', 'Toshika 750', 'Universe Note', 'iAssist Line', 'iStream', 'pearTV']\n",
      "[8950.  430. 1230. 1225. 2180. 4320. 3450. 2225.  150. 6310.]\n"
     ]
    }
   ],
   "source": [
    "# Printing list item and it's corresponding price\n",
    "print(item_list)\n",
    "print(X)"
   ]
  },
  {
   "cell_type": "markdown",
   "metadata": {},
   "source": [
    "Alcon 10 (price - 8950) is the most expensive product out of 10 items in the store. iStream is the least expensive of all which is priced as 150."
   ]
  },
  {
   "cell_type": "markdown",
   "metadata": {},
   "source": [
    "### 3.5.2 Exploring Errors"
   ]
  },
  {
   "cell_type": "markdown",
   "metadata": {},
   "source": [
    "order_total is calculated by discounting order_price plus delivery_charges. It is given that delivery_charges, coupon_discount, and quantity value in the shopping cart are always error-free. This leaves us with order_price, order_total, and cart items which may contain errors. Only one column can contain an error out of the 3 columns if there is an error and it is present in one of the 3 columns.\n",
    "Out of the 3 columns, only 1 can be wrong at a time. Hence, I have come up with the following conditions and cases to resolve the error. \n",
    "Let there be 4 variables :\n",
    "- OP- order price is the order_price quantity from the dataset.\n",
    "- OP'- new order price calculated using the linear equation and the given cart. \n",
    "- TO- total order is the order_total value from the dataset \n",
    "- TO' - total order calculated by using OP*(1-0.01*coupon_disount)+ delivery_charge i.e. by applying the rule that order total is calculated by discounting order_price plus delivery_charges.\n",
    "\n",
    "The 3 conditions so formed after defining the variables:\n",
    "\n",
    "- Case **A**: **shopping_cart** is the error\n",
    "    - if TO is the same as calculated total order meaning TO' and OP is not equal to calculated order price i.e. OP'. Implying OP' is calculated using the wrong shopping cart and one of the items is faulty in the shopping_cart. Hence, shopping_cart needs to be fixed by changing one item in the cart and the fixed cart should match the order_price attribute.\n",
    "\n",
    "\n",
    "- Case **B**: **order_price** is the error\n",
    "    - if TO is not equal to TO' (as $TO'= OP*(1-0.01*$ coupon_disount $)+ $ delivery_charge $)$ and OP is also not equal to OP'. This means that OP isn't correct and is leading to inequality in both the conditions. Hence, order_price needs to be changed from OP to OP' which was calculated using the shopping cart details.\n",
    "\n",
    "\n",
    "- Case **C**: **order_total** is the error\n",
    "    - If OP is equal to OP' and TO isn't equal to TO'. Implying, the shopping_cart and order_price are correct as OP and OP' are equal and TO i.e. order_total is the error. order_total can be fixed by assigning its value to OT'.\n",
    "\n",
    "Errors in these 3 columns will fall under semantic anomaly as all the 3 are related to one another. Let's build a function to get the accurate cart of the same order_price."
   ]
  },
  {
   "cell_type": "code",
   "execution_count": 539,
   "metadata": {},
   "outputs": [],
   "source": [
    "# The function return an accurate cart \n",
    "# Arguments of this function is cart:incorrect cart & target: the correct order price which the cart should give\n",
    "def new_cart(cart,target):\n",
    "    \n",
    "    # evaluating the string cart to a list of tuples\n",
    "    cart = eval(cart)\n",
    "    \n",
    "    # Iterating through each item in the incorrect cart \n",
    "    for item_index in range(len(cart)):\n",
    "        \n",
    "        # the item will be changed for each product,quantity pair \n",
    "        # and X.dot will be performed for changed cart till the resultant matches the target        \n",
    "        # for each item in item_list ** Reminder: Item_list has all 10 the names of the products the retailer sells. \n",
    "        for product in item_list:\n",
    "            \n",
    "            # maiking a new coeff list for an item change in the cart\n",
    "            coeff_list = [0]*10\n",
    "            \n",
    "            #make the new temp coeff list by all the items\n",
    "            for items in range(len(cart)):\n",
    "                \n",
    "                # if item_index is same as items than change the item to \"product\" for the coeff list\n",
    "                if item_index==items:\n",
    "                    # coeff assigned to the changed item that is \"product\"\n",
    "                    coeff_list[item_list.index(product)]=cart[items][1]\n",
    "                \n",
    "                else:\n",
    "                    # else it remains same as the cart\n",
    "                    coeff_list[item_list.index(cart[items][0])]=cart[items][1]\n",
    "            \n",
    "            # After making the changes to the coeff list\n",
    "            # let's check if this change in item name actually \n",
    "            # results in a cart which gives the same order_price as the given target.\n",
    "            # X.dot to array od coeff_list is perfromed to get the order price of the changed cart list\n",
    "            if target == round(X.dot(np.array(coeff_list))): \n",
    "                # if true,changes at item_index tuple is performed\n",
    "                \n",
    "                # tuple at item_index'th index of cart is taken.\n",
    "                temp_list = list(cart[item_index]) # [item name,quantity] is the the temp_list \n",
    "                temp_list[0]=product # Changing 0th index to product\n",
    "                cart[item_index] = tuple(temp_list) # assigning the changed tuple to the cart at index item_index\n",
    "                \n",
    "                # returning the accurate cart\n",
    "                return cart"
   ]
  },
  {
   "cell_type": "code",
   "execution_count": 540,
   "metadata": {
    "scrolled": false
   },
   "outputs": [
    {
     "name": "stdout",
     "output_type": "stream",
     "text": [
      "Printing some errors:\n",
      "order_price \tshopping_cart \torder_total\n",
      "11260 \t [('Toshika 750', 2), ('Universe Note', 2)] \t 11358.88\n",
      "Error shopping_cart: [('Toshika 750', 2), ('Universe Note', 2)] \n",
      "Accurate shopping_cart: [('Thunder line', 2), ('Universe Note', 2)] \n",
      "\n",
      "order_price \tshopping_cart \torder_total\n",
      "3755 \t [('Lucent 330S', 1), ('iStream', 2), ('Toshika 750', 1)] \t 3463.35\n",
      "Error shopping_cart: [('Lucent 330S', 1), ('iStream', 2), ('Toshika 750', 1)] \n",
      "Accurate shopping_cart: [('Lucent 330S', 1), ('iStream', 2), ('iAssist Line', 1)] \n",
      "\n",
      "order_price \tshopping_cart \torder_total\n",
      "5585 \t [('Universe Note', 1), ('Thunder line', 2)] \t 5085.92\n",
      "Error shopping_cart: [('Universe Note', 1), ('Thunder line', 2)] \n",
      "Accurate shopping_cart: [('Olivia x460', 1), ('Thunder line', 2)] \n",
      "\n",
      "order_price shopping_cart order_total\n",
      "14850 [('Alcon 10', 1), ('Olivia x460', 2), ('Universe Note', 1)] 6893.34\n",
      "Error order_total: 6893.34 \n",
      "Accurate order_total: 11231.15 \n",
      "\n",
      "order_price shopping_cart order_total\n",
      "10575 [('pearTV', 1), ('Toshika 750', 1), ('Olivia x460', 2), ('Alcon 10', 2)] 26396.34\n",
      "Error order_price: 10575 \n",
      "Accurate order_price: 30980 \n",
      "\n",
      "order_price shopping_cart order_total\n",
      "6740 [('Universe Note', 2), ('Alcon 10', 2), ('iStream', 2)] 18905.79\n",
      "Error order_price: 6740 \n",
      "Accurate order_price: 25100 \n",
      "\n",
      "order_price shopping_cart order_total\n",
      "19710 [('iAssist Line', 2), ('pearTV', 1), ('Alcon 10', 1)] 8628.56\n",
      "Error order_total: 8628.56 \n",
      "Accurate order_total: 16814.52 \n",
      "\n",
      "order_price \tshopping_cart \torder_total\n",
      "19130 \t [('iAssist Line', 1), ('Alcon 10', 2)] \t 16310.32\n",
      "Error shopping_cart: [('iAssist Line', 1), ('Alcon 10', 2)] \n",
      "Accurate shopping_cart: [('Lucent 330S', 1), ('Alcon 10', 2)] \n",
      "\n",
      "order_price shopping_cart order_total\n",
      "7060 [('Thunder line', 2), ('Olivia x460', 2)] 6536.62\n",
      "Error order_price: 7060 \n",
      "Accurate order_price: 6810 \n",
      "\n",
      "order_price shopping_cart order_total\n",
      "11710 [('Alcon 10', 2), ('Candle Inferno', 1)] 18409.32\n",
      "Error order_price: 11710 \n",
      "Accurate order_price: 18330 \n",
      "\n",
      "order_price shopping_cart order_total\n",
      "2330 [('Thunder line', 1), ('iStream', 1)] 8325.73\n",
      "Error order_total: 8325.73 \n",
      "Accurate order_total: 2432.91 \n",
      "\n",
      "order_price shopping_cart order_total\n",
      "16980 [('pearTV', 2), ('Thunder line', 2)] 15273.34\n",
      "Error order_total: 15273.34 \n",
      "Accurate order_total: 12823.5 \n",
      "\n",
      ".........................\n",
      "Total order_price_error: 27\n",
      "Total order_total_error: 27\n",
      "Total shopping_cart_error: 27\n"
     ]
    }
   ],
   "source": [
    "# Initialising variables to count errors\n",
    "order_price_error = 0\n",
    "order_total_error = 0\n",
    "shopping_cart_error = 0\n",
    "\n",
    "# Printing some errors of each type\n",
    "print(\"Printing some errors:\")\n",
    "\n",
    "# iterating through the rows of the dataframe \n",
    "for index, row in dirty_data.iterrows():\n",
    "    \n",
    "    # evaluating cart to list for the current row\n",
    "    cart = eval(row['shopping_cart'])\n",
    "    # initialising a coeff list\n",
    "    coeff_list = [0]*10\n",
    "    for i in cart:\n",
    "        # assigning values to the coeff list\n",
    "        coeff_list[item_list.index(i[0])]=i[1]\n",
    "        \n",
    "    # calculated order price or OP'\n",
    "    cal_order_price = round(X.dot(np.array(coeff_list))) # OP'\n",
    "    \n",
    "    #calculated total order or OT' = OP*(1-0.01*coupon_disount)+ delivery_charge\n",
    "    old_total_order = round(row['delivery_charges']+row['order_price']*(1-0.01*row['coupon_discount']),2) #OT'\n",
    "    \n",
    "    #Case C check i.e. order_total check\n",
    "    # OT!=OT' and OP!=OP': if true\n",
    "    if row['order_total']!=old_total_order and  row['order_price']!=cal_order_price:# order_price error\n",
    "        # incrementing the error\n",
    "        order_price_error = order_price_error + 1\n",
    "        #printing for less than 5 errors\n",
    "        if order_price_error<5:\n",
    "            print(\"order_price\",\"shopping_cart\",\"order_total\")\n",
    "            print(row['order_price'],row['shopping_cart'],row['order_total'])\n",
    "            print(\"Error order_price:\",row['order_price'],\"\\nAccurate order_price:\",cal_order_price,\"\\n\")\n",
    "    \n",
    "    #Case B check i.e. order_price check\n",
    "    # OT!=OT' and OP==OP': if true\n",
    "    elif row['order_price']==cal_order_price and row['order_total']!=old_total_order: # order_total error\n",
    "        # incrementing the error\n",
    "        order_total_error = order_total_error + 1\n",
    "        \n",
    "        #printing for less than 5 errors        \n",
    "        if order_total_error<5:           \n",
    "            print(\"order_price\",\"shopping_cart\",\"order_total\")\n",
    "            print(row['order_price'],row['shopping_cart'],row['order_total'])\n",
    "            print(\"Error order_total:\",row['order_total'],\"\\nAccurate order_total:\",old_total_order,\"\\n\")\n",
    "      \n",
    "    #Case A check i.e. shopping_cart check\n",
    "    # OT==OT' and OP!=OP': if true\n",
    "    elif row['order_total']==old_total_order and row['order_price']!=cal_order_price: # shopping_cart error\n",
    "        # incrementing the error\n",
    "        shopping_cart_error = shopping_cart_error + 1\n",
    "        if shopping_cart_error<5:\n",
    "            print(\"order_price\",\"\\tshopping_cart\",\"\\torder_total\")\n",
    "            print(row['order_price'],\"\\t\",row['shopping_cart'],\"\\t\",row['order_total'])\n",
    "            print(\"Error shopping_cart:\",row['shopping_cart'],\"\\nAccurate shopping_cart:\",\\\n",
    "                  str(new_cart(row['shopping_cart'],row['order_price'])),\"\\n\")\n",
    "\n",
    "# printing the total number of errors\n",
    "print(\".........................\")\n",
    "print(\"Total order_price_error:\",order_price_error)\n",
    "print(\"Total order_total_error:\",order_total_error)\n",
    "print(\"Total shopping_cart_error:\",shopping_cart_error)"
   ]
  },
  {
   "cell_type": "markdown",
   "metadata": {},
   "source": [
    "order_price, order_total and shopping_cart each has 27 errors."
   ]
  },
  {
   "cell_type": "markdown",
   "metadata": {},
   "source": [
    "### 3.5.3 Fixing Errors"
   ]
  },
  {
   "cell_type": "code",
   "execution_count": 541,
   "metadata": {},
   "outputs": [],
   "source": [
    "# iterating through the rows of the dataframe \n",
    "for index, row in dirty_data.iterrows():\n",
    "    \n",
    "    # evaluating cart to list for the current row\n",
    "    cart = eval(row['shopping_cart'])\n",
    "    # initialising a coeff list\n",
    "    coeff_list = [0]*10\n",
    "    for i in cart:\n",
    "        # assigning values to the coeff list\n",
    "        coeff_list[item_list.index(i[0])]=i[1]\n",
    "    \n",
    "    # calculated order price or OP'\n",
    "    cal_order_price = round(X.dot(np.array(coeff_list))) #new price\n",
    "    \n",
    "    #calculated total order or OT' = OP*(1-0.01*coupon_disount)+ delivery_charge\n",
    "    old_total_order = round(row['delivery_charges']+row['order_price']*(1-0.01*row['coupon_discount']),2) #old order\n",
    "    \n",
    "    #Case C check i.e. order_total check\n",
    "    # OT!=OT' and OP!=OP': if true\n",
    "    if row['order_total']!=old_total_order and  row['order_price']!=cal_order_price and row['check']==False :\n",
    "        dirty_data.iloc[index,dirty_data.columns.get_loc('order_price')] =  cal_order_price\n",
    "        # check col is updated\n",
    "        dirty_data.iloc[index,dirty_data.columns.get_loc('check')] = True\n",
    "    \n",
    "    #Case B check i.e. order_price check\n",
    "    # OT!=OT' and OP==OP': if true\n",
    "    elif row['order_price']==cal_order_price and row['order_total']!=old_total_order and row['check']==False :\n",
    "        # Calculating the correct total order\n",
    "        correct_total = round(row['delivery_charges']+row['order_price']*(1-0.01*row['coupon_discount']),2)\n",
    "        dirty_data.iloc[index,dirty_data.columns.get_loc('order_total')] =  correct_total\n",
    "        # check col is updated\n",
    "        dirty_data.iloc[index,dirty_data.columns.get_loc('check')] = True\n",
    "    \n",
    "    #Case A check i.e. shopping_cart check\n",
    "    # OT==OT' and OP!=OP': if true\n",
    "    elif row['order_total']==old_total_order and row['order_price']!=cal_order_price and row['check']==False:\n",
    "        # assigning the correct cart by calling new_cart function\n",
    "        # with agrumnet as the wrong cart and correct target order_price\n",
    "        dirty_data.iloc[index,dirty_data.columns.get_loc('shopping_cart')]=\\\n",
    "        str(new_cart(row['shopping_cart'],row['order_price']))\n",
    "        \n",
    "        # check col is updated\n",
    "        dirty_data.iloc[index,dirty_data.columns.get_loc('check')] = True       "
   ]
  },
  {
   "cell_type": "markdown",
   "metadata": {},
   "source": [
    "Total number of errors encountered and fixed so far is 243."
   ]
  },
  {
   "cell_type": "code",
   "execution_count": 542,
   "metadata": {
    "scrolled": true
   },
   "outputs": [
    {
     "data": {
      "text/plain": [
       "243"
      ]
     },
     "execution_count": 542,
     "metadata": {},
     "output_type": "execute_result"
    }
   ],
   "source": [
    "# Total number of errors encountered and fixed so far.\n",
    "sum(dirty_data['check'])"
   ]
  },
  {
   "cell_type": "markdown",
   "metadata": {},
   "source": [
    "Error Breakdown till now:\n",
    "- 27 is_happy_customer errors\n",
    "- 27 customer_lat & customer_long errors\n",
    "- 27 distance_to_nearest_warehouse errors\n",
    "- 27 nearest_warehouse errors\n",
    "- 27 date errors\n",
    "- 27 season errors\n",
    "- 27 shopping_cart errors\n",
    "- 27 order_price errors\n",
    "- 27 order_total errors"
   ]
  },
  {
   "cell_type": "markdown",
   "metadata": {},
   "source": [
    "## 3.6 order_id, customer_id and is_expedited_delivery check"
   ]
  },
  {
   "cell_type": "markdown",
   "metadata": {},
   "source": [
    "**order_id**\n",
    "\n",
    "Total unique order_id and order_id matching pattern rows. It can be seen that order_id follows a particular pattern where it starts with ORD and is followed by 6 digits. Let's check if all rows follow the same."
   ]
  },
  {
   "cell_type": "code",
   "execution_count": 543,
   "metadata": {},
   "outputs": [
    {
     "data": {
      "text/plain": [
       "500"
      ]
     },
     "execution_count": 543,
     "metadata": {},
     "output_type": "execute_result"
    }
   ],
   "source": [
    "len(dirty_data.order_id.unique()) # Total unique order_id are 500 equal to the number of rows"
   ]
  },
  {
   "cell_type": "code",
   "execution_count": 544,
   "metadata": {},
   "outputs": [
    {
     "data": {
      "text/plain": [
       "500"
      ]
     },
     "execution_count": 544,
     "metadata": {},
     "output_type": "execute_result"
    }
   ],
   "source": [
    "sum(dirty_data['order_id'].str.match('ORD[0-9]{6}')) # Total order_id pattern  following the same pattern"
   ]
  },
  {
   "cell_type": "markdown",
   "metadata": {},
   "source": [
    "order_id seems to be error-free as it follows the same string pattern for all the rows plus they all are unique. Hence, it follows the description of the column.\n",
    "\n",
    "**customer_id**\n",
    "\n",
    "According to the given description in the assessment column you each customer can have more than 1 order_id. Meaning each customer can make multiple transactions. "
   ]
  },
  {
   "cell_type": "code",
   "execution_count": 545,
   "metadata": {},
   "outputs": [
    {
     "data": {
      "text/plain": [
       "495"
      ]
     },
     "execution_count": 545,
     "metadata": {},
     "output_type": "execute_result"
    }
   ],
   "source": [
    "len(dirty_data.customer_id.unique()) # Total unique customer_id are 495"
   ]
  },
  {
   "cell_type": "markdown",
   "metadata": {},
   "source": [
    "495 unique customer_id transactions are present in the data. Let's check if all the customers always stay at the same location."
   ]
  },
  {
   "cell_type": "code",
   "execution_count": 546,
   "metadata": {
    "scrolled": false
   },
   "outputs": [
    {
     "data": {
      "text/html": [
       "<div>\n",
       "<style scoped>\n",
       "    .dataframe tbody tr th:only-of-type {\n",
       "        vertical-align: middle;\n",
       "    }\n",
       "\n",
       "    .dataframe tbody tr th {\n",
       "        vertical-align: top;\n",
       "    }\n",
       "\n",
       "    .dataframe thead th {\n",
       "        text-align: right;\n",
       "    }\n",
       "</style>\n",
       "<table border=\"1\" class=\"dataframe\">\n",
       "  <thead>\n",
       "    <tr style=\"text-align: right;\">\n",
       "      <th></th>\n",
       "      <th>customer_lat</th>\n",
       "      <th>customer_long</th>\n",
       "    </tr>\n",
       "    <tr>\n",
       "      <th>customer_id</th>\n",
       "      <th></th>\n",
       "      <th></th>\n",
       "    </tr>\n",
       "  </thead>\n",
       "  <tbody>\n",
       "    <tr>\n",
       "      <th>ID0021578114</th>\n",
       "      <td>-37.814434</td>\n",
       "      <td>144.949138</td>\n",
       "    </tr>\n",
       "    <tr>\n",
       "      <th>ID0026051950</th>\n",
       "      <td>-37.813076</td>\n",
       "      <td>144.970930</td>\n",
       "    </tr>\n",
       "    <tr>\n",
       "      <th>ID0030287315</th>\n",
       "      <td>-37.800783</td>\n",
       "      <td>144.967000</td>\n",
       "    </tr>\n",
       "    <tr>\n",
       "      <th>ID0030287874</th>\n",
       "      <td>-37.823339</td>\n",
       "      <td>145.014406</td>\n",
       "    </tr>\n",
       "    <tr>\n",
       "      <th>ID0030946628</th>\n",
       "      <td>-37.805061</td>\n",
       "      <td>144.972248</td>\n",
       "    </tr>\n",
       "    <tr>\n",
       "      <th>...</th>\n",
       "      <td>...</td>\n",
       "      <td>...</td>\n",
       "    </tr>\n",
       "    <tr>\n",
       "      <th>ID6200184386</th>\n",
       "      <td>-37.820555</td>\n",
       "      <td>144.953218</td>\n",
       "    </tr>\n",
       "    <tr>\n",
       "      <th>ID6200184389</th>\n",
       "      <td>-37.820155</td>\n",
       "      <td>144.952118</td>\n",
       "    </tr>\n",
       "    <tr>\n",
       "      <th>ID6245731081</th>\n",
       "      <td>-37.810584</td>\n",
       "      <td>144.977713</td>\n",
       "    </tr>\n",
       "    <tr>\n",
       "      <th>ID6273363794</th>\n",
       "      <td>-37.799565</td>\n",
       "      <td>144.962487</td>\n",
       "    </tr>\n",
       "    <tr>\n",
       "      <th>ID6282174104</th>\n",
       "      <td>-37.823323</td>\n",
       "      <td>144.976263</td>\n",
       "    </tr>\n",
       "  </tbody>\n",
       "</table>\n",
       "<p>495 rows × 2 columns</p>\n",
       "</div>"
      ],
      "text/plain": [
       "              customer_lat  customer_long\n",
       "customer_id                              \n",
       "ID0021578114    -37.814434     144.949138\n",
       "ID0026051950    -37.813076     144.970930\n",
       "ID0030287315    -37.800783     144.967000\n",
       "ID0030287874    -37.823339     145.014406\n",
       "ID0030946628    -37.805061     144.972248\n",
       "...                    ...            ...\n",
       "ID6200184386    -37.820555     144.953218\n",
       "ID6200184389    -37.820155     144.952118\n",
       "ID6245731081    -37.810584     144.977713\n",
       "ID6273363794    -37.799565     144.962487\n",
       "ID6282174104    -37.823323     144.976263\n",
       "\n",
       "[495 rows x 2 columns]"
      ]
     },
     "execution_count": 546,
     "metadata": {},
     "output_type": "execute_result"
    }
   ],
   "source": [
    "dirty_data[['customer_id','customer_lat','customer_long']].groupby('customer_id').sum()"
   ]
  },
  {
   "cell_type": "markdown",
   "metadata": {},
   "source": [
    "Yes! a customer always stays at the same position as the customer_lat and customer_long is a single float value and is not a list to accommodate more than 1 coordinate position. Seems like customer_id is error-free."
   ]
  },
  {
   "cell_type": "markdown",
   "metadata": {},
   "source": [
    "**is_expedited_delivery**"
   ]
  },
  {
   "cell_type": "markdown",
   "metadata": {},
   "source": [
    "We cannot really find any errors in the is_expedited_delivery column as no other column justifies is_expedited_delivery. Hence, it is error free."
   ]
  },
  {
   "cell_type": "markdown",
   "metadata": {},
   "source": [
    "## 3.7 Dirty Data Solution"
   ]
  },
  {
   "cell_type": "code",
   "execution_count": 547,
   "metadata": {},
   "outputs": [],
   "source": [
    "# delete the check column as it isn't a part of the original data\n",
    "del dirty_data['check']\n",
    "# Writing the error free dataframe to \"30154987_dirty_data_solution.csv\"\n",
    "dirty_data.to_csv('30154987_dirty_data_solution.csv',index=False)"
   ]
  },
  {
   "cell_type": "markdown",
   "metadata": {},
   "source": [
    "# 4. Missing Data"
   ]
  },
  {
   "cell_type": "markdown",
   "metadata": {},
   "source": [
    "Checking the missing_data format of data. As it doesn't contain any errors it will just contain null values indside the data frame. This task is to overcome coverage anomalies."
   ]
  },
  {
   "cell_type": "code",
   "execution_count": 548,
   "metadata": {},
   "outputs": [
    {
     "data": {
      "text/html": [
       "<div>\n",
       "<style scoped>\n",
       "    .dataframe tbody tr th:only-of-type {\n",
       "        vertical-align: middle;\n",
       "    }\n",
       "\n",
       "    .dataframe tbody tr th {\n",
       "        vertical-align: top;\n",
       "    }\n",
       "\n",
       "    .dataframe thead th {\n",
       "        text-align: right;\n",
       "    }\n",
       "</style>\n",
       "<table border=\"1\" class=\"dataframe\">\n",
       "  <thead>\n",
       "    <tr style=\"text-align: right;\">\n",
       "      <th></th>\n",
       "      <th>order_id</th>\n",
       "      <th>customer_id</th>\n",
       "      <th>date</th>\n",
       "      <th>nearest_warehouse</th>\n",
       "      <th>shopping_cart</th>\n",
       "      <th>order_price</th>\n",
       "      <th>delivery_charges</th>\n",
       "      <th>customer_lat</th>\n",
       "      <th>customer_long</th>\n",
       "      <th>coupon_discount</th>\n",
       "      <th>order_total</th>\n",
       "      <th>season</th>\n",
       "      <th>is_expedited_delivery</th>\n",
       "      <th>distance_to_nearest_warehouse</th>\n",
       "      <th>latest_customer_review</th>\n",
       "      <th>is_happy_customer</th>\n",
       "    </tr>\n",
       "  </thead>\n",
       "  <tbody>\n",
       "    <tr>\n",
       "      <th>0</th>\n",
       "      <td>ORD279670</td>\n",
       "      <td>ID0309347101</td>\n",
       "      <td>2019-06-01</td>\n",
       "      <td>Bakers</td>\n",
       "      <td>[('Alcon 10', 1), ('Candle Inferno', 1)]</td>\n",
       "      <td>9380.0</td>\n",
       "      <td>79.41</td>\n",
       "      <td>-37.815592</td>\n",
       "      <td>145.005919</td>\n",
       "      <td>15</td>\n",
       "      <td>8052.41</td>\n",
       "      <td>Winter</td>\n",
       "      <td>True</td>\n",
       "      <td>1.1275</td>\n",
       "      <td>like new like new</td>\n",
       "      <td>1.0</td>\n",
       "    </tr>\n",
       "    <tr>\n",
       "      <th>1</th>\n",
       "      <td>ORD305937</td>\n",
       "      <td>ID0581701516</td>\n",
       "      <td>2019-08-21</td>\n",
       "      <td>Thompson</td>\n",
       "      <td>[('Toshika 750', 2), ('Lucent 330S', 1), ('pea...</td>\n",
       "      <td>22640.0</td>\n",
       "      <td>69.73</td>\n",
       "      <td>-37.807119</td>\n",
       "      <td>144.930904</td>\n",
       "      <td>5</td>\n",
       "      <td>21577.73</td>\n",
       "      <td>Winter</td>\n",
       "      <td>False</td>\n",
       "      <td>1.5503</td>\n",
       "      <td>great phone. get sim from sprint service store...</td>\n",
       "      <td>1.0</td>\n",
       "    </tr>\n",
       "    <tr>\n",
       "      <th>2</th>\n",
       "      <td>ORD291814</td>\n",
       "      <td>ID5427967032</td>\n",
       "      <td>2019-03-30</td>\n",
       "      <td>Thompson</td>\n",
       "      <td>[('Candle Inferno', 1), ('Universe Note', 2), ...</td>\n",
       "      <td>12015.0</td>\n",
       "      <td>82.97</td>\n",
       "      <td>-37.800742</td>\n",
       "      <td>144.958610</td>\n",
       "      <td>10</td>\n",
       "      <td>10896.47</td>\n",
       "      <td>Autumn</td>\n",
       "      <td>True</td>\n",
       "      <td>1.6717</td>\n",
       "      <td>this tablet is great considering how affordabl...</td>\n",
       "      <td>1.0</td>\n",
       "    </tr>\n",
       "    <tr>\n",
       "      <th>3</th>\n",
       "      <td>ORD426656</td>\n",
       "      <td>ID4716795471</td>\n",
       "      <td>2019-09-03</td>\n",
       "      <td>Thompson</td>\n",
       "      <td>[('Lucent 330S', 1), ('iStream', 1), ('pearTV'...</td>\n",
       "      <td>18360.0</td>\n",
       "      <td>NaN</td>\n",
       "      <td>-37.818739</td>\n",
       "      <td>144.953232</td>\n",
       "      <td>0</td>\n",
       "      <td>18435.64</td>\n",
       "      <td>Spring</td>\n",
       "      <td>False</td>\n",
       "      <td>0.8658</td>\n",
       "      <td>good battery the product came in the original ...</td>\n",
       "      <td>1.0</td>\n",
       "    </tr>\n",
       "    <tr>\n",
       "      <th>4</th>\n",
       "      <td>ORD106503</td>\n",
       "      <td>ID0332546323</td>\n",
       "      <td>2019-03-22</td>\n",
       "      <td>Thompson</td>\n",
       "      <td>[('Olivia x460', 1), ('pearTV', 2), ('Candle I...</td>\n",
       "      <td>19025.0</td>\n",
       "      <td>48.60</td>\n",
       "      <td>-37.806921</td>\n",
       "      <td>144.942863</td>\n",
       "      <td>15</td>\n",
       "      <td>16219.85</td>\n",
       "      <td>Autumn</td>\n",
       "      <td>False</td>\n",
       "      <td>0.7395</td>\n",
       "      <td>worst signal worst signal. doesn't matter if i...</td>\n",
       "      <td>0.0</td>\n",
       "    </tr>\n",
       "  </tbody>\n",
       "</table>\n",
       "</div>"
      ],
      "text/plain": [
       "    order_id   customer_id        date nearest_warehouse  \\\n",
       "0  ORD279670  ID0309347101  2019-06-01            Bakers   \n",
       "1  ORD305937  ID0581701516  2019-08-21          Thompson   \n",
       "2  ORD291814  ID5427967032  2019-03-30          Thompson   \n",
       "3  ORD426656  ID4716795471  2019-09-03          Thompson   \n",
       "4  ORD106503  ID0332546323  2019-03-22          Thompson   \n",
       "\n",
       "                                       shopping_cart  order_price  \\\n",
       "0           [('Alcon 10', 1), ('Candle Inferno', 1)]       9380.0   \n",
       "1  [('Toshika 750', 2), ('Lucent 330S', 1), ('pea...      22640.0   \n",
       "2  [('Candle Inferno', 1), ('Universe Note', 2), ...      12015.0   \n",
       "3  [('Lucent 330S', 1), ('iStream', 1), ('pearTV'...      18360.0   \n",
       "4  [('Olivia x460', 1), ('pearTV', 2), ('Candle I...      19025.0   \n",
       "\n",
       "   delivery_charges  customer_lat  customer_long  coupon_discount  \\\n",
       "0             79.41    -37.815592     145.005919               15   \n",
       "1             69.73    -37.807119     144.930904                5   \n",
       "2             82.97    -37.800742     144.958610               10   \n",
       "3               NaN    -37.818739     144.953232                0   \n",
       "4             48.60    -37.806921     144.942863               15   \n",
       "\n",
       "   order_total  season  is_expedited_delivery  distance_to_nearest_warehouse  \\\n",
       "0      8052.41  Winter                   True                         1.1275   \n",
       "1     21577.73  Winter                  False                         1.5503   \n",
       "2     10896.47  Autumn                   True                         1.6717   \n",
       "3     18435.64  Spring                  False                         0.8658   \n",
       "4     16219.85  Autumn                  False                         0.7395   \n",
       "\n",
       "                              latest_customer_review  is_happy_customer  \n",
       "0                                  like new like new                1.0  \n",
       "1  great phone. get sim from sprint service store...                1.0  \n",
       "2  this tablet is great considering how affordabl...                1.0  \n",
       "3  good battery the product came in the original ...                1.0  \n",
       "4  worst signal worst signal. doesn't matter if i...                0.0  "
      ]
     },
     "execution_count": 548,
     "metadata": {},
     "output_type": "execute_result"
    }
   ],
   "source": [
    "missing_data.head()"
   ]
  },
  {
   "cell_type": "code",
   "execution_count": 549,
   "metadata": {},
   "outputs": [
    {
     "name": "stdout",
     "output_type": "stream",
     "text": [
      "<class 'pandas.core.frame.DataFrame'>\n",
      "RangeIndex: 500 entries, 0 to 499\n",
      "Data columns (total 16 columns):\n",
      " #   Column                         Non-Null Count  Dtype  \n",
      "---  ------                         --------------  -----  \n",
      " 0   order_id                       500 non-null    object \n",
      " 1   customer_id                    500 non-null    object \n",
      " 2   date                           500 non-null    object \n",
      " 3   nearest_warehouse              445 non-null    object \n",
      " 4   shopping_cart                  500 non-null    object \n",
      " 5   order_price                    485 non-null    float64\n",
      " 6   delivery_charges               460 non-null    float64\n",
      " 7   customer_lat                   500 non-null    float64\n",
      " 8   customer_long                  500 non-null    float64\n",
      " 9   coupon_discount                500 non-null    int64  \n",
      " 10  order_total                    485 non-null    float64\n",
      " 11  season                         500 non-null    object \n",
      " 12  is_expedited_delivery          500 non-null    bool   \n",
      " 13  distance_to_nearest_warehouse  469 non-null    float64\n",
      " 14  latest_customer_review         500 non-null    object \n",
      " 15  is_happy_customer              460 non-null    float64\n",
      "dtypes: bool(1), float64(7), int64(1), object(7)\n",
      "memory usage: 59.2+ KB\n"
     ]
    }
   ],
   "source": [
    "missing_data.info()"
   ]
  },
  {
   "cell_type": "markdown",
   "metadata": {},
   "source": [
    "From the above data frame info, it can be clearly seen that nearest_warehouse, order_price, delivery_charges, order_total,distance_to_nearest_warehouse, and is_happy_customer only contain null values as the total number of rows are 500 in the dataset."
   ]
  },
  {
   "cell_type": "markdown",
   "metadata": {},
   "source": [
    "## 4.1 is_happy_customer imputation"
   ]
  },
  {
   "cell_type": "markdown",
   "metadata": {},
   "source": [
    "Finding the number of rows with null is_happy_customer column."
   ]
  },
  {
   "cell_type": "code",
   "execution_count": 550,
   "metadata": {},
   "outputs": [
    {
     "data": {
      "text/plain": [
       "40"
      ]
     },
     "execution_count": 550,
     "metadata": {},
     "output_type": "execute_result"
    }
   ],
   "source": [
    "# true false if is null or not \n",
    "is_happy_customer_index = missing_data['is_happy_customer'].isnull() \n",
    "# sum of all null rows\n",
    "sum(is_happy_customer_index) # 40 null rows for is_happy_customer is found in the data"
   ]
  },
  {
   "cell_type": "markdown",
   "metadata": {},
   "source": [
    "40 null values for is_happy_customer column. Creating a function to find sentiment for coustomer review."
   ]
  },
  {
   "cell_type": "code",
   "execution_count": 551,
   "metadata": {},
   "outputs": [],
   "source": [
    "# argument foor this function is latest_customer_review\n",
    "def sem_ana(text):\n",
    "    # calling the SentimentIntensityAnalyzer()\n",
    "    sentim_analyzer_missing = SentimentIntensityAnalyzer()\n",
    "    # finding the compound polarity score of the text\n",
    "    sentiment = sentim_analyzer_missing.polarity_scores(text)['compound']\n",
    "    \n",
    "    # if compound polarity is greater than 0.05 or text is \"None\" the customer is happy \n",
    "    # happy means 1.0\n",
    "    # is not happy menas 0.0\n",
    "    if sentiment>=0.05 or (text=='None'):\n",
    "        happy = 1 # customer is happy\n",
    "    else:\n",
    "        happy = 0 # customer is not happy\n",
    "        \n",
    "    # return the happy value   \n",
    "    return happy "
   ]
  },
  {
   "cell_type": "code",
   "execution_count": 552,
   "metadata": {},
   "outputs": [],
   "source": [
    "# Imputing values for null is_happy_customer rows\n",
    "for index in range(len(is_happy_customer_index)):\n",
    "    # if is_happy_customer is null\n",
    "    if is_happy_customer_index[index]==True:\n",
    "        # find the sentiment using sem_ana function where the argument is latest_customer_review\n",
    "        missing_data.iloc[index,missing_data.columns.get_loc('is_happy_customer')]= \\\n",
    "        sem_ana(missing_data.iloc[index,missing_data.columns.get_loc('latest_customer_review')])"
   ]
  },
  {
   "cell_type": "markdown",
   "metadata": {},
   "source": [
    "Checking to see if is_happy_customer column has null values or not."
   ]
  },
  {
   "cell_type": "code",
   "execution_count": 553,
   "metadata": {},
   "outputs": [
    {
     "data": {
      "text/plain": [
       "0"
      ]
     },
     "execution_count": 553,
     "metadata": {},
     "output_type": "execute_result"
    }
   ],
   "source": [
    "sum( missing_data['is_happy_customer'].isnull()) ### The result shows 0. The null values of is_happy_customer are found."
   ]
  },
  {
   "cell_type": "markdown",
   "metadata": {},
   "source": [
    "# 4.2 order_price and order_total imputation"
   ]
  },
  {
   "cell_type": "code",
   "execution_count": 554,
   "metadata": {},
   "outputs": [
    {
     "data": {
      "text/plain": [
       "15"
      ]
     },
     "execution_count": 554,
     "metadata": {},
     "output_type": "execute_result"
    }
   ],
   "source": [
    "# true false if is null or not \n",
    "order_price_index = missing_data['order_price'].isnull() \n",
    "# sum of all null rows \n",
    "sum(missing_data['order_price'].isnull())# 15 null rows for order_price is found in the data"
   ]
  },
  {
   "cell_type": "markdown",
   "metadata": {},
   "source": [
    "Order price can be found by making a coefficient list from the shopping_cart and later performing a dot product with the item prices array X."
   ]
  },
  {
   "cell_type": "code",
   "execution_count": 555,
   "metadata": {},
   "outputs": [],
   "source": [
    "# Iterating through the dataframe\n",
    "for index, row in missing_data.iterrows():\n",
    "    \n",
    "    # if index is true in  order_price_index\n",
    "    # item is null\n",
    "    if order_price_index[index]==True:\n",
    "        \n",
    "        # evaluating the string to a list of tuples\n",
    "        cart = eval(row['shopping_cart'])        \n",
    "        # initialising coeff list \n",
    "        coeff_list = [0]*10\n",
    "        \n",
    "        for i in cart:\n",
    "            # upadting coefficients of that shopping cart\n",
    "            coeff_list[item_list.index(i[0])]=i[1]\n",
    "        \n",
    "        # calculating order_price by dot product of X and coeff_list\n",
    "        missing_data.iloc[index,missing_data.columns.get_loc('order_price')]=  round(X.dot(np.array(coeff_list)))"
   ]
  },
  {
   "cell_type": "markdown",
   "metadata": {},
   "source": [
    "Checking to see if order_price column has null values or not."
   ]
  },
  {
   "cell_type": "code",
   "execution_count": 556,
   "metadata": {},
   "outputs": [
    {
     "data": {
      "text/plain": [
       "0"
      ]
     },
     "execution_count": 556,
     "metadata": {},
     "output_type": "execute_result"
    }
   ],
   "source": [
    "sum( missing_data['order_price'].isnull()) ### The result shows 0. The null values of order_price are found."
   ]
  },
  {
   "cell_type": "markdown",
   "metadata": {},
   "source": [
    "## 4.3 order_total imputation"
   ]
  },
  {
   "cell_type": "code",
   "execution_count": 557,
   "metadata": {},
   "outputs": [
    {
     "data": {
      "text/plain": [
       "15"
      ]
     },
     "execution_count": 557,
     "metadata": {},
     "output_type": "execute_result"
    }
   ],
   "source": [
    "# true false of is null or not \n",
    "order_total_index = missing_data['order_total'].isnull()\n",
    "# sum of all null rows \n",
    "sum(missing_data['order_total'].isnull())"
   ]
  },
  {
   "cell_type": "markdown",
   "metadata": {},
   "source": [
    "15 null values for order_total column. Imputing the correct order_total for all the null rows."
   ]
  },
  {
   "cell_type": "code",
   "execution_count": 558,
   "metadata": {},
   "outputs": [],
   "source": [
    "# Iterating through the dataframe\n",
    "for index, row in missing_data.iterrows():\n",
    "    # if cell is null for order_total\n",
    "    if order_total_index[index]==True:\n",
    "        # find total order by using the formula\n",
    "        # order total is sum of discouted order price and delivery charges rounded to 2 decimal places\n",
    "        correct_total = round(row['delivery_charges']+row['order_price']*(1-0.01*row['coupon_discount']),2)\n",
    "        # imputing the cell with the calculated value\n",
    "        missing_data.iloc[index,missing_data.columns.get_loc('order_total')]= correct_total"
   ]
  },
  {
   "cell_type": "code",
   "execution_count": 559,
   "metadata": {},
   "outputs": [
    {
     "data": {
      "text/plain": [
       "0"
      ]
     },
     "execution_count": 559,
     "metadata": {},
     "output_type": "execute_result"
    }
   ],
   "source": [
    "sum(missing_data['order_total'].isnull()) # checking if all the null rows are imputed"
   ]
  },
  {
   "cell_type": "markdown",
   "metadata": {},
   "source": [
    "No null values are left for order_total column."
   ]
  },
  {
   "cell_type": "markdown",
   "metadata": {},
   "source": [
    "## 4.4 nearest_warehouse & distance_to_nearest_warehouse imputation"
   ]
  },
  {
   "cell_type": "markdown",
   "metadata": {},
   "source": [
    "As we know nearest_warehouse and distance_to_nearest_warehouse are related to customer position. We will utilize the dirty data function to find the  nearest_warehouse and distance_to_nearest_warehouse for the empty cells."
   ]
  },
  {
   "cell_type": "code",
   "execution_count": 560,
   "metadata": {},
   "outputs": [
    {
     "name": "stdout",
     "output_type": "stream",
     "text": [
      "nearest_warehouse null values: 55\n"
     ]
    }
   ],
   "source": [
    "nearest_warehouse_index = missing_data['nearest_warehouse'].isnull()\n",
    "print(\"nearest_warehouse null values:\",sum(missing_data['nearest_warehouse'].isnull()))#Total 55"
   ]
  },
  {
   "cell_type": "code",
   "execution_count": 561,
   "metadata": {},
   "outputs": [
    {
     "name": "stdout",
     "output_type": "stream",
     "text": [
      "distance_to_nearest_warehouse null values: 31\n"
     ]
    }
   ],
   "source": [
    "print(\"distance_to_nearest_warehouse null values:\",sum(missing_data['distance_to_nearest_warehouse'].isnull()))#Total 31"
   ]
  },
  {
   "cell_type": "markdown",
   "metadata": {},
   "source": [
    "Imputing nearest_warehouse and distance_to_nearest_warehouse."
   ]
  },
  {
   "cell_type": "code",
   "execution_count": 562,
   "metadata": {},
   "outputs": [],
   "source": [
    "# iterating through the rows\n",
    "for index, row in missing_data.iterrows():\n",
    "    # if cell is null\n",
    "    if nearest_warehouse_index[index]==True:\n",
    "        # calculate nearest_warehouse and distance_to_nearest_warehouse value by calling distance function for the customer\n",
    "        distance_km = distance(row['customer_lat'],row['customer_long'])\n",
    "        # 0th index of distance_km is nearest_warehouse\n",
    "        missing_data.iloc[index,missing_data.columns.get_loc('nearest_warehouse')] =  distance_km[0]\n",
    "        # 1st index of distance_km is distance_to_nearest_warehouse\n",
    "        missing_data.iloc[index,missing_data.columns.get_loc('distance_to_nearest_warehouse')] =  distance_km[1]"
   ]
  },
  {
   "cell_type": "code",
   "execution_count": 563,
   "metadata": {},
   "outputs": [
    {
     "data": {
      "text/plain": [
       "0"
      ]
     },
     "execution_count": 563,
     "metadata": {},
     "output_type": "execute_result"
    }
   ],
   "source": [
    "sum(missing_data['distance_to_nearest_warehouse'].isnull())# total null values are 0"
   ]
  },
  {
   "cell_type": "code",
   "execution_count": 564,
   "metadata": {},
   "outputs": [
    {
     "data": {
      "text/plain": [
       "0"
      ]
     },
     "execution_count": 564,
     "metadata": {},
     "output_type": "execute_result"
    }
   ],
   "source": [
    "sum(missing_data['nearest_warehouse'].isnull()) # total null values are 0"
   ]
  },
  {
   "cell_type": "markdown",
   "metadata": {},
   "source": [
    "No null values are left for nearest_warehouse and distance_to_nearest_warehouse."
   ]
  },
  {
   "cell_type": "markdown",
   "metadata": {},
   "source": [
    "## 4.5 delivery_charges imputation"
   ]
  },
  {
   "cell_type": "markdown",
   "metadata": {},
   "source": [
    "Delivery charges are linearly related to is_happy_customer, distance_to_nearest_warehouse, and is_expedited_delivery as stated in the business rule. It is best to compute the model and find the null values of delivery charges. Furthermore, it is specified that the model is dependent on seasons."
   ]
  },
  {
   "cell_type": "code",
   "execution_count": 565,
   "metadata": {},
   "outputs": [
    {
     "name": "stdout",
     "output_type": "stream",
     "text": [
      "Total null delivery_charges: 40\n"
     ]
    }
   ],
   "source": [
    "# True indxing of null rows\n",
    "na_index = (missing_data['delivery_charges'].isnull())\n",
    "# True indxing of not null rows\n",
    "nonna_index = (False==missing_data['delivery_charges'].isnull())\n",
    "print(\"Total null delivery_charges:\", sum(na_index))"
   ]
  },
  {
   "cell_type": "markdown",
   "metadata": {},
   "source": [
    "### 4.5.1 Training  and Building Models"
   ]
  },
  {
   "cell_type": "markdown",
   "metadata": {},
   "source": [
    "**Initialising linear models**"
   ]
  },
  {
   "cell_type": "code",
   "execution_count": 566,
   "metadata": {},
   "outputs": [],
   "source": [
    "# Linear model for each season\n",
    "lm_winter = LinearRegression() #instatiate lm for winter\n",
    "lm_summer = LinearRegression() #instatiate lm for summer\n",
    "lm_autumn = LinearRegression() #instatiate lm for autumn\n",
    "lm_spring = LinearRegression() #instatiate lm for spring\n",
    "\n",
    "# Dependent variable list\n",
    "variables_list = ['is_happy_customer','distance_to_nearest_warehouse','is_expedited_delivery']"
   ]
  },
  {
   "cell_type": "markdown",
   "metadata": {},
   "source": [
    "**Training data**"
   ]
  },
  {
   "cell_type": "code",
   "execution_count": 567,
   "metadata": {},
   "outputs": [],
   "source": [
    "# The data is taken which doesn't have null delivery_charges for training the model\n",
    "# Different data for each season\n",
    "missing_data_naWinter = missing_data[missing_data['season']=='Winter'].loc[nonna_index,] #Winter training data\n",
    "missing_data_naSummer = missing_data[missing_data['season']=='Summer'].loc[nonna_index,] #Summer training data\n",
    "missing_data_naAutumn = missing_data[missing_data['season']=='Autumn'].loc[nonna_index,] #Autumn training data\n",
    "missing_data_naSpring = missing_data[missing_data['season']=='Spring'].loc[nonna_index,] #Spring training data"
   ]
  },
  {
   "cell_type": "markdown",
   "metadata": {},
   "source": [
    "**Training the models**"
   ]
  },
  {
   "cell_type": "code",
   "execution_count": 568,
   "metadata": {},
   "outputs": [
    {
     "data": {
      "text/plain": [
       "LinearRegression()"
      ]
     },
     "execution_count": 568,
     "metadata": {},
     "output_type": "execute_result"
    }
   ],
   "source": [
    "# Training each of the models with the training data formed in the previous cell\n",
    "lm_winter.fit(missing_data_naWinter[variables_list],missing_data_naWinter['delivery_charges']) #Winter training \n",
    "lm_summer.fit(missing_data_naSummer[variables_list],missing_data_naSummer['delivery_charges']) #Summer training \n",
    "lm_autumn.fit(missing_data_naAutumn[variables_list],missing_data_naAutumn['delivery_charges']) #Autumn training \n",
    "lm_spring.fit(missing_data_naSpring[variables_list],missing_data_naSpring['delivery_charges']) #Spring training "
   ]
  },
  {
   "cell_type": "markdown",
   "metadata": {},
   "source": [
    "Furthermore, I would like to examine the residual plots of all the 4 models. So let's plot them in the next cells."
   ]
  },
  {
   "cell_type": "markdown",
   "metadata": {},
   "source": [
    "**Winter model**"
   ]
  },
  {
   "cell_type": "code",
   "execution_count": 569,
   "metadata": {},
   "outputs": [
    {
     "data": {
      "image/png": "[encoded data removed]",
      "text/plain": [
       "<Figure size 432x288 with 2 Axes>"
      ]
     },
     "metadata": {
      "needs_background": "light"
     },
     "output_type": "display_data"
    },
    {
     "data": {
      "text/plain": [
       "<AxesSubplot:title={'center':'Residuals for LinearRegression Model'}, xlabel='Predicted Value', ylabel='Residuals'>"
      ]
     },
     "execution_count": 569,
     "metadata": {},
     "output_type": "execute_result"
    }
   ],
   "source": [
    "# Visualisation for residual plots ; winter model\n",
    "visualizer = ResidualsPlot(lm_winter, hist=False, qqplot=True)\n",
    "# Fitting the data to the residual plot\n",
    "visualizer.fit(missing_data_naWinter[variables_list],missing_data_naWinter['delivery_charges'])\n",
    "# printing the plot\n",
    "visualizer.show()"
   ]
  },
  {
   "cell_type": "markdown",
   "metadata": {},
   "source": [
    "The model proves that 'delivery_charges' is linear to the varaibles as the R-square value for train data is 0.986 for winter season. The model has learned to predict accurate target variable."
   ]
  },
  {
   "cell_type": "markdown",
   "metadata": {},
   "source": [
    "**Summer Model**"
   ]
  },
  {
   "cell_type": "code",
   "execution_count": 570,
   "metadata": {},
   "outputs": [
    {
     "data": {
      "image/png": "[encoded data removed]",
      "text/plain": [
       "<Figure size 432x288 with 2 Axes>"
      ]
     },
     "metadata": {
      "needs_background": "light"
     },
     "output_type": "display_data"
    },
    {
     "data": {
      "text/plain": [
       "<AxesSubplot:title={'center':'Residuals for LinearRegression Model'}, xlabel='Predicted Value', ylabel='Residuals'>"
      ]
     },
     "execution_count": 570,
     "metadata": {},
     "output_type": "execute_result"
    }
   ],
   "source": [
    "# Visualisation for residual plots ; summer model\n",
    "visualizer = ResidualsPlot(lm_summer, hist=False, qqplot=True)\n",
    "# Fitting the data to the residual plot\n",
    "visualizer.fit(missing_data_naSummer[variables_list],missing_data_naSummer['delivery_charges'])\n",
    "# printing the plot\n",
    "visualizer.show()"
   ]
  },
  {
   "cell_type": "markdown",
   "metadata": {},
   "source": [
    "The model proves that 'delivery_charges' is linear to the varaibles as the R-square value for train data is 0.993 for summer season. The model has learned to predict accurate target variable."
   ]
  },
  {
   "cell_type": "markdown",
   "metadata": {},
   "source": [
    "**Autumn Model**"
   ]
  },
  {
   "cell_type": "code",
   "execution_count": 571,
   "metadata": {
    "scrolled": true
   },
   "outputs": [
    {
     "data": {
      "image/png": "[encoded data removed]",
      "text/plain": [
       "<Figure size 432x288 with 2 Axes>"
      ]
     },
     "metadata": {
      "needs_background": "light"
     },
     "output_type": "display_data"
    },
    {
     "data": {
      "text/plain": [
       "<AxesSubplot:title={'center':'Residuals for LinearRegression Model'}, xlabel='Predicted Value', ylabel='Residuals'>"
      ]
     },
     "execution_count": 571,
     "metadata": {},
     "output_type": "execute_result"
    }
   ],
   "source": [
    "# Visualisation for residual plots ; autumn model\n",
    "visualizer = ResidualsPlot(lm_autumn, hist=False, qqplot=True)\n",
    "# Fitting the data to the residual plot\n",
    "visualizer.fit(missing_data_naAutumn[variables_list],missing_data_naAutumn['delivery_charges'])\n",
    "# printing the plot\n",
    "visualizer.show()"
   ]
  },
  {
   "cell_type": "markdown",
   "metadata": {},
   "source": [
    "The model proves that 'delivery_charges' is linear to the varaibles as the R-square value for train data is 0.992 for autumn season. The model has learned to predict accurate target variable."
   ]
  },
  {
   "cell_type": "markdown",
   "metadata": {},
   "source": [
    "**Spring Model**"
   ]
  },
  {
   "cell_type": "code",
   "execution_count": 572,
   "metadata": {},
   "outputs": [
    {
     "data": {
      "image/png": "[encoded data removed]",
      "text/plain": [
       "<Figure size 432x288 with 2 Axes>"
      ]
     },
     "metadata": {
      "needs_background": "light"
     },
     "output_type": "display_data"
    },
    {
     "data": {
      "text/plain": [
       "<AxesSubplot:title={'center':'Residuals for LinearRegression Model'}, xlabel='Predicted Value', ylabel='Residuals'>"
      ]
     },
     "execution_count": 572,
     "metadata": {},
     "output_type": "execute_result"
    }
   ],
   "source": [
    "# Visualisation for residual plots ; spring model\n",
    "visualizer = ResidualsPlot(lm_spring, hist=False, qqplot=True)\n",
    "# Fitting the data to the residual plot\n",
    "visualizer.fit(missing_data_naSpring[variables_list],missing_data_naSpring['delivery_charges'])\n",
    "# printing the plot\n",
    "visualizer.show()"
   ]
  },
  {
   "cell_type": "markdown",
   "metadata": {},
   "source": [
    "The model proves that 'delivery_charges' is linear to the varaibles as the R-square value for train data is 0.996 for spring season. The model has learned to predict accurate target variable."
   ]
  },
  {
   "cell_type": "markdown",
   "metadata": {},
   "source": [
    "### 4.5.2 Model Predictions"
   ]
  },
  {
   "cell_type": "markdown",
   "metadata": {},
   "source": [
    "**Winter predictions**"
   ]
  },
  {
   "cell_type": "code",
   "execution_count": 573,
   "metadata": {},
   "outputs": [],
   "source": [
    "# predicting for delivery_charges null values of winter season\n",
    "# and putting it in a list\n",
    "solution_winter = list(lm_winter.predict(missing_data[missing_data['season']=='Winter'].loc[na_index,][variables_list]))\n",
    "\n",
    "# index of the solution_winter list\n",
    "i = 0\n",
    "\n",
    "# iterating through each null delivery_charges cell of winter season\n",
    "for index,row in missing_data[missing_data['season']=='Winter'].loc[na_index,['delivery_charges']].iterrows():\n",
    "    \n",
    "    # assigning the value to the delivery_charges col at index \n",
    "    # ith item in solution_winter is for index'th delivery_charges cell in missing_data\n",
    "    missing_data.loc[index,['delivery_charges']] = round(solution_winter[i],2)\n",
    "    \n",
    "    # incrementing solution_winter index\n",
    "    i = i + 1                                                         "
   ]
  },
  {
   "cell_type": "markdown",
   "metadata": {},
   "source": [
    "Printing delivery_charges prediction for null cells."
   ]
  },
  {
   "cell_type": "code",
   "execution_count": 574,
   "metadata": {},
   "outputs": [
    {
     "data": {
      "text/html": [
       "<div>\n",
       "<style scoped>\n",
       "    .dataframe tbody tr th:only-of-type {\n",
       "        vertical-align: middle;\n",
       "    }\n",
       "\n",
       "    .dataframe tbody tr th {\n",
       "        vertical-align: top;\n",
       "    }\n",
       "\n",
       "    .dataframe thead th {\n",
       "        text-align: right;\n",
       "    }\n",
       "</style>\n",
       "<table border=\"1\" class=\"dataframe\">\n",
       "  <thead>\n",
       "    <tr style=\"text-align: right;\">\n",
       "      <th></th>\n",
       "      <th>delivery_charges</th>\n",
       "    </tr>\n",
       "  </thead>\n",
       "  <tbody>\n",
       "    <tr>\n",
       "      <th>182</th>\n",
       "      <td>81.33</td>\n",
       "    </tr>\n",
       "    <tr>\n",
       "      <th>197</th>\n",
       "      <td>80.81</td>\n",
       "    </tr>\n",
       "    <tr>\n",
       "      <th>261</th>\n",
       "      <td>59.08</td>\n",
       "    </tr>\n",
       "    <tr>\n",
       "      <th>283</th>\n",
       "      <td>70.24</td>\n",
       "    </tr>\n",
       "    <tr>\n",
       "      <th>312</th>\n",
       "      <td>64.20</td>\n",
       "    </tr>\n",
       "    <tr>\n",
       "      <th>343</th>\n",
       "      <td>77.81</td>\n",
       "    </tr>\n",
       "    <tr>\n",
       "      <th>367</th>\n",
       "      <td>80.54</td>\n",
       "    </tr>\n",
       "    <tr>\n",
       "      <th>395</th>\n",
       "      <td>64.43</td>\n",
       "    </tr>\n",
       "    <tr>\n",
       "      <th>410</th>\n",
       "      <td>63.00</td>\n",
       "    </tr>\n",
       "    <tr>\n",
       "      <th>437</th>\n",
       "      <td>77.32</td>\n",
       "    </tr>\n",
       "  </tbody>\n",
       "</table>\n",
       "</div>"
      ],
      "text/plain": [
       "     delivery_charges\n",
       "182             81.33\n",
       "197             80.81\n",
       "261             59.08\n",
       "283             70.24\n",
       "312             64.20\n",
       "343             77.81\n",
       "367             80.54\n",
       "395             64.43\n",
       "410             63.00\n",
       "437             77.32"
      ]
     },
     "execution_count": 574,
     "metadata": {},
     "output_type": "execute_result"
    }
   ],
   "source": [
    " missing_data[missing_data['season']=='Winter'].loc[na_index,['delivery_charges']]"
   ]
  },
  {
   "cell_type": "markdown",
   "metadata": {},
   "source": [
    "**Summer predictions**"
   ]
  },
  {
   "cell_type": "code",
   "execution_count": 575,
   "metadata": {},
   "outputs": [],
   "source": [
    "# predicting for delivery_charges null values of summer season\n",
    "# and putting it in a list\n",
    "solution_summer = list(lm_summer.predict(missing_data[missing_data['season']=='Summer'].loc[na_index,][variables_list]))\n",
    "\n",
    "# index of the solution_summer list\n",
    "i = 0\n",
    "\n",
    "# iterating through each null delivery_charges cell of summer season\n",
    "for index,row in missing_data[missing_data['season']=='Summer'].loc[na_index,['delivery_charges']].iterrows():\n",
    "    \n",
    "    # assigning the value to the delivery_charges col at index \n",
    "    # ith item in solution_summer is for index'th delivery_charges cell in missing_data\n",
    "    missing_data.loc[index,['delivery_charges']] = round(solution_summer[i],2)\n",
    "    # incrementing solution_summer index\n",
    "    i = i + 1                                                         "
   ]
  },
  {
   "cell_type": "markdown",
   "metadata": {},
   "source": [
    "Printing delivery_charges prediction for null cells."
   ]
  },
  {
   "cell_type": "code",
   "execution_count": 576,
   "metadata": {},
   "outputs": [
    {
     "data": {
      "text/html": [
       "<div>\n",
       "<style scoped>\n",
       "    .dataframe tbody tr th:only-of-type {\n",
       "        vertical-align: middle;\n",
       "    }\n",
       "\n",
       "    .dataframe tbody tr th {\n",
       "        vertical-align: top;\n",
       "    }\n",
       "\n",
       "    .dataframe thead th {\n",
       "        text-align: right;\n",
       "    }\n",
       "</style>\n",
       "<table border=\"1\" class=\"dataframe\">\n",
       "  <thead>\n",
       "    <tr style=\"text-align: right;\">\n",
       "      <th></th>\n",
       "      <th>delivery_charges</th>\n",
       "    </tr>\n",
       "  </thead>\n",
       "  <tbody>\n",
       "    <tr>\n",
       "      <th>38</th>\n",
       "      <td>89.90</td>\n",
       "    </tr>\n",
       "    <tr>\n",
       "      <th>81</th>\n",
       "      <td>76.75</td>\n",
       "    </tr>\n",
       "    <tr>\n",
       "      <th>86</th>\n",
       "      <td>92.61</td>\n",
       "    </tr>\n",
       "    <tr>\n",
       "      <th>287</th>\n",
       "      <td>104.98</td>\n",
       "    </tr>\n",
       "    <tr>\n",
       "      <th>361</th>\n",
       "      <td>91.35</td>\n",
       "    </tr>\n",
       "  </tbody>\n",
       "</table>\n",
       "</div>"
      ],
      "text/plain": [
       "     delivery_charges\n",
       "38              89.90\n",
       "81              76.75\n",
       "86              92.61\n",
       "287            104.98\n",
       "361             91.35"
      ]
     },
     "execution_count": 576,
     "metadata": {},
     "output_type": "execute_result"
    }
   ],
   "source": [
    "missing_data[missing_data['season']=='Summer'].loc[na_index,['delivery_charges']]"
   ]
  },
  {
   "cell_type": "markdown",
   "metadata": {},
   "source": [
    "**Autumn predictions**"
   ]
  },
  {
   "cell_type": "code",
   "execution_count": 577,
   "metadata": {},
   "outputs": [],
   "source": [
    "# predicting for delivery_charges null values of autumn season\n",
    "# and putting it in a list\n",
    "solution_autumn = list(lm_autumn.predict(missing_data[missing_data['season']=='Autumn'].loc[na_index,][variables_list]))\n",
    "\n",
    "# index of the solution_autumn list\n",
    "i = 0\n",
    "\n",
    "# iterating through each null delivery_charges cell of autumn season\n",
    "for index,row in missing_data[missing_data['season']=='Autumn'].loc[na_index,['delivery_charges']].iterrows():\n",
    "    \n",
    "    # assigning the value to the delivery_charges col at index \n",
    "    # ith item in solution_autumn is for index'th delivery_charges cell in missing_data\n",
    "    missing_data.loc[index,['delivery_charges']] = round(solution_autumn[i],2)\n",
    "    # incrementing solution_autumn index\n",
    "    i = i + 1                                                         "
   ]
  },
  {
   "cell_type": "markdown",
   "metadata": {},
   "source": [
    "Printing delivery_charges prediction for null cells."
   ]
  },
  {
   "cell_type": "code",
   "execution_count": 578,
   "metadata": {
    "scrolled": false
   },
   "outputs": [
    {
     "data": {
      "text/html": [
       "<div>\n",
       "<style scoped>\n",
       "    .dataframe tbody tr th:only-of-type {\n",
       "        vertical-align: middle;\n",
       "    }\n",
       "\n",
       "    .dataframe tbody tr th {\n",
       "        vertical-align: top;\n",
       "    }\n",
       "\n",
       "    .dataframe thead th {\n",
       "        text-align: right;\n",
       "    }\n",
       "</style>\n",
       "<table border=\"1\" class=\"dataframe\">\n",
       "  <thead>\n",
       "    <tr style=\"text-align: right;\">\n",
       "      <th></th>\n",
       "      <th>delivery_charges</th>\n",
       "    </tr>\n",
       "  </thead>\n",
       "  <tbody>\n",
       "    <tr>\n",
       "      <th>23</th>\n",
       "      <td>50.17</td>\n",
       "    </tr>\n",
       "    <tr>\n",
       "      <th>25</th>\n",
       "      <td>66.69</td>\n",
       "    </tr>\n",
       "    <tr>\n",
       "      <th>36</th>\n",
       "      <td>64.74</td>\n",
       "    </tr>\n",
       "    <tr>\n",
       "      <th>40</th>\n",
       "      <td>64.57</td>\n",
       "    </tr>\n",
       "    <tr>\n",
       "      <th>102</th>\n",
       "      <td>70.79</td>\n",
       "    </tr>\n",
       "    <tr>\n",
       "      <th>131</th>\n",
       "      <td>79.45</td>\n",
       "    </tr>\n",
       "    <tr>\n",
       "      <th>219</th>\n",
       "      <td>63.30</td>\n",
       "    </tr>\n",
       "    <tr>\n",
       "      <th>269</th>\n",
       "      <td>64.85</td>\n",
       "    </tr>\n",
       "    <tr>\n",
       "      <th>270</th>\n",
       "      <td>51.77</td>\n",
       "    </tr>\n",
       "    <tr>\n",
       "      <th>288</th>\n",
       "      <td>84.26</td>\n",
       "    </tr>\n",
       "    <tr>\n",
       "      <th>365</th>\n",
       "      <td>78.32</td>\n",
       "    </tr>\n",
       "    <tr>\n",
       "      <th>369</th>\n",
       "      <td>50.74</td>\n",
       "    </tr>\n",
       "    <tr>\n",
       "      <th>372</th>\n",
       "      <td>68.96</td>\n",
       "    </tr>\n",
       "  </tbody>\n",
       "</table>\n",
       "</div>"
      ],
      "text/plain": [
       "     delivery_charges\n",
       "23              50.17\n",
       "25              66.69\n",
       "36              64.74\n",
       "40              64.57\n",
       "102             70.79\n",
       "131             79.45\n",
       "219             63.30\n",
       "269             64.85\n",
       "270             51.77\n",
       "288             84.26\n",
       "365             78.32\n",
       "369             50.74\n",
       "372             68.96"
      ]
     },
     "execution_count": 578,
     "metadata": {},
     "output_type": "execute_result"
    }
   ],
   "source": [
    "missing_data[missing_data['season']=='Autumn'].loc[na_index,['delivery_charges']]"
   ]
  },
  {
   "cell_type": "markdown",
   "metadata": {},
   "source": [
    "**Spring predictions**"
   ]
  },
  {
   "cell_type": "code",
   "execution_count": 579,
   "metadata": {},
   "outputs": [],
   "source": [
    "# predicting for delivery_charges null values of spring season\n",
    "# and putting it in a list\n",
    "solution_spring = list(lm_spring.predict(missing_data[missing_data['season']=='Spring'].loc[na_index,][variables_list]))\n",
    "\n",
    "# index of the solution_spring list\n",
    "i = 0\n",
    "\n",
    "# iterating through each null delivery_charges cell of spring season\n",
    "for index,row in missing_data[missing_data['season']=='Spring'].loc[na_index,['delivery_charges']].iterrows():\n",
    "    \n",
    "    # assigning the value to the delivery_charges col at index \n",
    "    # ith item in solution_spring is for index'th delivery_charges cell in missing_data\n",
    "    missing_data.loc[index,['delivery_charges']] = round(solution_spring[i],2)\n",
    "    # incrementing solution_spring index\n",
    "    i = i + 1                                                         "
   ]
  },
  {
   "cell_type": "markdown",
   "metadata": {},
   "source": [
    "Printing delivery_charges prediction for null cells."
   ]
  },
  {
   "cell_type": "code",
   "execution_count": 580,
   "metadata": {},
   "outputs": [
    {
     "data": {
      "text/html": [
       "<div>\n",
       "<style scoped>\n",
       "    .dataframe tbody tr th:only-of-type {\n",
       "        vertical-align: middle;\n",
       "    }\n",
       "\n",
       "    .dataframe tbody tr th {\n",
       "        vertical-align: top;\n",
       "    }\n",
       "\n",
       "    .dataframe thead th {\n",
       "        text-align: right;\n",
       "    }\n",
       "</style>\n",
       "<table border=\"1\" class=\"dataframe\">\n",
       "  <thead>\n",
       "    <tr style=\"text-align: right;\">\n",
       "      <th></th>\n",
       "      <th>delivery_charges</th>\n",
       "    </tr>\n",
       "  </thead>\n",
       "  <tbody>\n",
       "    <tr>\n",
       "      <th>3</th>\n",
       "      <td>76.91</td>\n",
       "    </tr>\n",
       "    <tr>\n",
       "      <th>5</th>\n",
       "      <td>58.00</td>\n",
       "    </tr>\n",
       "    <tr>\n",
       "      <th>61</th>\n",
       "      <td>84.80</td>\n",
       "    </tr>\n",
       "    <tr>\n",
       "      <th>80</th>\n",
       "      <td>105.93</td>\n",
       "    </tr>\n",
       "    <tr>\n",
       "      <th>133</th>\n",
       "      <td>88.52</td>\n",
       "    </tr>\n",
       "    <tr>\n",
       "      <th>165</th>\n",
       "      <td>108.81</td>\n",
       "    </tr>\n",
       "    <tr>\n",
       "      <th>166</th>\n",
       "      <td>74.33</td>\n",
       "    </tr>\n",
       "    <tr>\n",
       "      <th>237</th>\n",
       "      <td>81.14</td>\n",
       "    </tr>\n",
       "    <tr>\n",
       "      <th>286</th>\n",
       "      <td>85.85</td>\n",
       "    </tr>\n",
       "    <tr>\n",
       "      <th>347</th>\n",
       "      <td>98.19</td>\n",
       "    </tr>\n",
       "    <tr>\n",
       "      <th>371</th>\n",
       "      <td>105.26</td>\n",
       "    </tr>\n",
       "    <tr>\n",
       "      <th>468</th>\n",
       "      <td>62.09</td>\n",
       "    </tr>\n",
       "  </tbody>\n",
       "</table>\n",
       "</div>"
      ],
      "text/plain": [
       "     delivery_charges\n",
       "3               76.91\n",
       "5               58.00\n",
       "61              84.80\n",
       "80             105.93\n",
       "133             88.52\n",
       "165            108.81\n",
       "166             74.33\n",
       "237             81.14\n",
       "286             85.85\n",
       "347             98.19\n",
       "371            105.26\n",
       "468             62.09"
      ]
     },
     "execution_count": 580,
     "metadata": {},
     "output_type": "execute_result"
    }
   ],
   "source": [
    "missing_data[missing_data['season']=='Spring'].loc[na_index,['delivery_charges']]"
   ]
  },
  {
   "cell_type": "code",
   "execution_count": 581,
   "metadata": {},
   "outputs": [
    {
     "data": {
      "text/plain": [
       "0"
      ]
     },
     "execution_count": 581,
     "metadata": {},
     "output_type": "execute_result"
    }
   ],
   "source": [
    "sum(missing_data['delivery_charges'].isnull())"
   ]
  },
  {
   "cell_type": "markdown",
   "metadata": {},
   "source": [
    "No null values are left for delivery_charges column. "
   ]
  },
  {
   "cell_type": "markdown",
   "metadata": {},
   "source": [
    "## 4.6 Missing Data Solution\n",
    "\n",
    "Since all the null values are evaluated we can not write the imputed missing_data into a csv."
   ]
  },
  {
   "cell_type": "code",
   "execution_count": 582,
   "metadata": {},
   "outputs": [],
   "source": [
    "missing_data.to_csv('30154987_missing_data_solution.csv',index=False)"
   ]
  },
  {
   "cell_type": "markdown",
   "metadata": {},
   "source": [
    "# 5. Outlier Data\n",
    "\n",
    "The outlier data provided only contains outliers which needs to be detected for cleaning the dataset. "
   ]
  },
  {
   "cell_type": "code",
   "execution_count": 583,
   "metadata": {
    "scrolled": true
   },
   "outputs": [
    {
     "data": {
      "text/html": [
       "<div>\n",
       "<style scoped>\n",
       "    .dataframe tbody tr th:only-of-type {\n",
       "        vertical-align: middle;\n",
       "    }\n",
       "\n",
       "    .dataframe tbody tr th {\n",
       "        vertical-align: top;\n",
       "    }\n",
       "\n",
       "    .dataframe thead th {\n",
       "        text-align: right;\n",
       "    }\n",
       "</style>\n",
       "<table border=\"1\" class=\"dataframe\">\n",
       "  <thead>\n",
       "    <tr style=\"text-align: right;\">\n",
       "      <th></th>\n",
       "      <th>order_id</th>\n",
       "      <th>customer_id</th>\n",
       "      <th>date</th>\n",
       "      <th>nearest_warehouse</th>\n",
       "      <th>shopping_cart</th>\n",
       "      <th>order_price</th>\n",
       "      <th>delivery_charges</th>\n",
       "      <th>customer_lat</th>\n",
       "      <th>customer_long</th>\n",
       "      <th>coupon_discount</th>\n",
       "      <th>order_total</th>\n",
       "      <th>season</th>\n",
       "      <th>is_expedited_delivery</th>\n",
       "      <th>distance_to_nearest_warehouse</th>\n",
       "      <th>latest_customer_review</th>\n",
       "      <th>is_happy_customer</th>\n",
       "    </tr>\n",
       "  </thead>\n",
       "  <tbody>\n",
       "    <tr>\n",
       "      <th>0</th>\n",
       "      <td>ORD156935</td>\n",
       "      <td>ID3202917978</td>\n",
       "      <td>2019-11-06</td>\n",
       "      <td>Thompson</td>\n",
       "      <td>[('Lucent 330S', 1), ('Universe Note', 2), ('T...</td>\n",
       "      <td>16810</td>\n",
       "      <td>83.64</td>\n",
       "      <td>-37.807506</td>\n",
       "      <td>144.946621</td>\n",
       "      <td>0</td>\n",
       "      <td>16893.64</td>\n",
       "      <td>Spring</td>\n",
       "      <td>True</td>\n",
       "      <td>0.5765</td>\n",
       "      <td>very universal in use and was of applications....</td>\n",
       "      <td>False</td>\n",
       "    </tr>\n",
       "    <tr>\n",
       "      <th>1</th>\n",
       "      <td>ORD101569</td>\n",
       "      <td>ID0758611933</td>\n",
       "      <td>2019-11-15</td>\n",
       "      <td>Thompson</td>\n",
       "      <td>[('iStream', 2), ('pearTV', 1)]</td>\n",
       "      <td>6610</td>\n",
       "      <td>102.20</td>\n",
       "      <td>-37.821541</td>\n",
       "      <td>144.945644</td>\n",
       "      <td>25</td>\n",
       "      <td>5059.70</td>\n",
       "      <td>Spring</td>\n",
       "      <td>True</td>\n",
       "      <td>0.9951</td>\n",
       "      <td>five stars very good phone. work good</td>\n",
       "      <td>True</td>\n",
       "    </tr>\n",
       "    <tr>\n",
       "      <th>2</th>\n",
       "      <td>ORD356885</td>\n",
       "      <td>ID0547588442</td>\n",
       "      <td>2019-03-16</td>\n",
       "      <td>Bakers</td>\n",
       "      <td>[('Lucent 330S', 1), ('Olivia x460', 1), ('Tos...</td>\n",
       "      <td>11135</td>\n",
       "      <td>79.88</td>\n",
       "      <td>-37.815853</td>\n",
       "      <td>144.988007</td>\n",
       "      <td>25</td>\n",
       "      <td>8431.13</td>\n",
       "      <td>Autumn</td>\n",
       "      <td>True</td>\n",
       "      <td>0.9104</td>\n",
       "      <td>in love i totally love my phone... it's worth ...</td>\n",
       "      <td>True</td>\n",
       "    </tr>\n",
       "    <tr>\n",
       "      <th>3</th>\n",
       "      <td>ORD493249</td>\n",
       "      <td>ID6167489432</td>\n",
       "      <td>2019-07-01</td>\n",
       "      <td>Thompson</td>\n",
       "      <td>[('Lucent 330S', 2), ('Toshika 750', 2)]</td>\n",
       "      <td>11100</td>\n",
       "      <td>64.59</td>\n",
       "      <td>-37.811961</td>\n",
       "      <td>144.959474</td>\n",
       "      <td>0</td>\n",
       "      <td>11164.59</td>\n",
       "      <td>Winter</td>\n",
       "      <td>True</td>\n",
       "      <td>1.0938</td>\n",
       "      <td>poor bad alcon</td>\n",
       "      <td>False</td>\n",
       "    </tr>\n",
       "    <tr>\n",
       "      <th>4</th>\n",
       "      <td>ORD056801</td>\n",
       "      <td>ID0255058773</td>\n",
       "      <td>2019-11-11</td>\n",
       "      <td>Nickolson</td>\n",
       "      <td>[('Thunder line', 2), ('Toshika 750', 2), ('pe...</td>\n",
       "      <td>23760</td>\n",
       "      <td>99.06</td>\n",
       "      <td>-37.812821</td>\n",
       "      <td>144.971804</td>\n",
       "      <td>10</td>\n",
       "      <td>21483.06</td>\n",
       "      <td>Spring</td>\n",
       "      <td>True</td>\n",
       "      <td>0.6726</td>\n",
       "      <td>camera flash the phone is fantastic. the only ...</td>\n",
       "      <td>True</td>\n",
       "    </tr>\n",
       "  </tbody>\n",
       "</table>\n",
       "</div>"
      ],
      "text/plain": [
       "    order_id   customer_id        date nearest_warehouse  \\\n",
       "0  ORD156935  ID3202917978  2019-11-06          Thompson   \n",
       "1  ORD101569  ID0758611933  2019-11-15          Thompson   \n",
       "2  ORD356885  ID0547588442  2019-03-16            Bakers   \n",
       "3  ORD493249  ID6167489432  2019-07-01          Thompson   \n",
       "4  ORD056801  ID0255058773  2019-11-11         Nickolson   \n",
       "\n",
       "                                       shopping_cart  order_price  \\\n",
       "0  [('Lucent 330S', 1), ('Universe Note', 2), ('T...        16810   \n",
       "1                    [('iStream', 2), ('pearTV', 1)]         6610   \n",
       "2  [('Lucent 330S', 1), ('Olivia x460', 1), ('Tos...        11135   \n",
       "3           [('Lucent 330S', 2), ('Toshika 750', 2)]        11100   \n",
       "4  [('Thunder line', 2), ('Toshika 750', 2), ('pe...        23760   \n",
       "\n",
       "   delivery_charges  customer_lat  customer_long  coupon_discount  \\\n",
       "0             83.64    -37.807506     144.946621                0   \n",
       "1            102.20    -37.821541     144.945644               25   \n",
       "2             79.88    -37.815853     144.988007               25   \n",
       "3             64.59    -37.811961     144.959474                0   \n",
       "4             99.06    -37.812821     144.971804               10   \n",
       "\n",
       "   order_total  season  is_expedited_delivery  distance_to_nearest_warehouse  \\\n",
       "0     16893.64  Spring                   True                         0.5765   \n",
       "1      5059.70  Spring                   True                         0.9951   \n",
       "2      8431.13  Autumn                   True                         0.9104   \n",
       "3     11164.59  Winter                   True                         1.0938   \n",
       "4     21483.06  Spring                   True                         0.6726   \n",
       "\n",
       "                              latest_customer_review  is_happy_customer  \n",
       "0  very universal in use and was of applications....              False  \n",
       "1              five stars very good phone. work good               True  \n",
       "2  in love i totally love my phone... it's worth ...               True  \n",
       "3                                     poor bad alcon              False  \n",
       "4  camera flash the phone is fantastic. the only ...               True  "
      ]
     },
     "execution_count": 583,
     "metadata": {},
     "output_type": "execute_result"
    }
   ],
   "source": [
    "outlier_data = pd.read_csv('30154987_outlier_data.csv')\n",
    "outlier_data.head()"
   ]
  },
  {
   "cell_type": "markdown",
   "metadata": {},
   "source": [
    "## 5.1 Outlier Data Exploration\n",
    "\n",
    "Basic boxplots are plotted to get an idea of how many possible but not exact outliers are present for each season."
   ]
  },
  {
   "cell_type": "code",
   "execution_count": 584,
   "metadata": {},
   "outputs": [
    {
     "data": {
      "image/png": "[encoded data removed]",
      "text/plain": [
       "<Figure size 432x288 with 1 Axes>"
      ]
     },
     "metadata": {
      "needs_background": "light"
     },
     "output_type": "display_data"
    }
   ],
   "source": [
    "%matplotlib inline\n",
    "\n",
    "# boxplot for 'delivery_charges' by 'season'\n",
    "bp = outlier_data.boxplot(column='delivery_charges', by = 'season')"
   ]
  },
  {
   "cell_type": "markdown",
   "metadata": {},
   "source": [
    "The above box plot only shows potential outliers that are just related to season i.e. in relation to 1 variable (univariate analysis). This output isn't trustable as it only takes into consideration \"season\" as a variable in correlation to 'delivery_charges'."
   ]
  },
  {
   "cell_type": "markdown",
   "metadata": {},
   "source": [
    "## 5.2 Model Building & Outlier Detection"
   ]
  },
  {
   "cell_type": "markdown",
   "metadata": {},
   "source": [
    "It is know  that 'delivery_charges' has a linear relationship to 'is_happy_customer', 'distance_to_nearest_warehouse' and 'is_expedited_delivery'. Building a model and then visualizing the residual plots for outliers is an approach that can be utilized to recognize potential outliers from the dataset. Furthermore, each season will have a different model as 'delivery_charges' follow a different linear relationship with for each season. Let's make models and plot residual plots for each season using 'sklearn' and 'yellowbricks' library."
   ]
  },
  {
   "cell_type": "code",
   "execution_count": 585,
   "metadata": {
    "scrolled": false
   },
   "outputs": [
    {
     "name": "stdout",
     "output_type": "stream",
     "text": [
      "Winter\n"
     ]
    },
    {
     "data": {
      "image/png": "[encoded data removed]",
      "text/plain": [
       "<Figure size 432x288 with 2 Axes>"
      ]
     },
     "metadata": {
      "needs_background": "light"
     },
     "output_type": "display_data"
    },
    {
     "name": "stdout",
     "output_type": "stream",
     "text": [
      "..........................................................\n",
      "\n",
      "\n",
      "Summer\n"
     ]
    },
    {
     "data": {
      "image/png": "[encoded data removed]",
      "text/plain": [
       "<Figure size 432x288 with 2 Axes>"
      ]
     },
     "metadata": {
      "needs_background": "light"
     },
     "output_type": "display_data"
    },
    {
     "name": "stdout",
     "output_type": "stream",
     "text": [
      "..........................................................\n",
      "\n",
      "\n",
      "Autumn\n"
     ]
    },
    {
     "data": {
      "image/png": "[encoded data removed]",
      "text/plain": [
       "<Figure size 432x288 with 2 Axes>"
      ]
     },
     "metadata": {
      "needs_background": "light"
     },
     "output_type": "display_data"
    },
    {
     "name": "stdout",
     "output_type": "stream",
     "text": [
      "..........................................................\n",
      "\n",
      "\n",
      "Spring\n"
     ]
    },
    {
     "data": {
      "image/png": "[encoded data removed]",
      "text/plain": [
       "<Figure size 432x288 with 2 Axes>"
      ]
     },
     "metadata": {
      "needs_background": "light"
     },
     "output_type": "display_data"
    },
    {
     "name": "stdout",
     "output_type": "stream",
     "text": [
      "..........................................................\n",
      "\n",
      "\n"
     ]
    }
   ],
   "source": [
    "# A list which has all the season's name in it \n",
    "season_list = ['Winter','Summer','Autumn','Spring']\n",
    "\n",
    "# looping through season list to fit a model and plot the residual plots\n",
    "for season in season_list:\n",
    "    \n",
    "    # print the season name to specify what season the model is for\n",
    "    print(season)\n",
    "    \n",
    "    # creating a model instance\n",
    "    season_model =  LinearRegression() \n",
    "    \n",
    "    # building a residual plot for each season. \n",
    "    residual_visualizer = ResidualsPlot(season_model)\n",
    "    # fitting the data for the specified season\n",
    "    residual_visualizer.fit(outlier_data[outlier_data['season']==season][variables_list], outlier_data[outlier_data['season']==season]['delivery_charges'])\n",
    "    # visualising the residual plots\n",
    "    residual_visualizer.show()\n",
    "    \n",
    "    # line break\n",
    "    print(\"..........................................................\\n\\n\")"
   ]
  },
  {
   "cell_type": "markdown",
   "metadata": {},
   "source": [
    "From the above residual plots we can observe the following for each season:\n",
    "- **Winter** :\n",
    "    - The data points with high residual can be see clustered closely around -40 and +40 residual value.\n",
    "- **Summer** :\n",
    "    - Datapoints with high residuals are near -40 or +40 and are potential outliers.\n",
    "- **Autumn** :\n",
    "    - The outliers for Autumn are very clear and are very far from the 0th line. Datapoints below -20 and above 40 are together and are potential outliers.\n",
    "- **Spring** : \n",
    "    - This season seems to have more datapoints with high residuals compared to others. The residuals with absolute value more than 40 are possible outliers as they deviate more from the 0 residual value. Some residuals are close to -60 and most have an absolute value near 50.\n",
    "    \n",
    "Since Cook's distance for detecting influential data points and residual plots can be utilized to decrease outliers i.e. datapoints with residuals with an absolute value above or equal to 40 seem to be potential outliers for most of the seasons except Autumn which have high residuals with absolute values near or more than 30 are its outliers. Let's check if these points are influential on Cook's distance plot."
   ]
  },
  {
   "cell_type": "code",
   "execution_count": 586,
   "metadata": {},
   "outputs": [],
   "source": [
    "# For visualising cook's distance it is best to convert boolean attributes to float\n",
    "# is_expedited_delivery and is_happy_customer are boolean variables in the dataset\n",
    "outlier_data['is_expedited_delivery']= outlier_data['is_expedited_delivery'].astype(float)\n",
    "outlier_data['is_happy_customer']= outlier_data['is_happy_customer'].astype(float)"
   ]
  },
  {
   "cell_type": "markdown",
   "metadata": {},
   "source": [
    "Let's find most optimal cook's distance for each model to removes highly influential outliers from the dataset."
   ]
  },
  {
   "cell_type": "code",
   "execution_count": 587,
   "metadata": {
    "scrolled": false
   },
   "outputs": [
    {
     "name": "stdout",
     "output_type": "stream",
     "text": [
      "Winter\n"
     ]
    },
    {
     "data": {
      "image/png": "[encoded data removed]",
      "text/plain": [
       "<Figure size 432x288 with 1 Axes>"
      ]
     },
     "metadata": {
      "needs_background": "light"
     },
     "output_type": "display_data"
    },
    {
     "name": "stdout",
     "output_type": "stream",
     "text": [
      "..........................................................\n",
      "\n",
      "\n",
      "Summer\n"
     ]
    },
    {
     "data": {
      "image/png": "[encoded data removed]",
      "text/plain": [
       "<Figure size 432x288 with 1 Axes>"
      ]
     },
     "metadata": {
      "needs_background": "light"
     },
     "output_type": "display_data"
    },
    {
     "name": "stdout",
     "output_type": "stream",
     "text": [
      "..........................................................\n",
      "\n",
      "\n",
      "Autumn\n"
     ]
    },
    {
     "data": {
      "image/png": "[encoded data removed]",
      "text/plain": [
       "<Figure size 432x288 with 1 Axes>"
      ]
     },
     "metadata": {
      "needs_background": "light"
     },
     "output_type": "display_data"
    },
    {
     "name": "stdout",
     "output_type": "stream",
     "text": [
      "..........................................................\n",
      "\n",
      "\n",
      "Spring\n"
     ]
    },
    {
     "data": {
      "image/png": "[encoded data removed]",
      "text/plain": [
       "<Figure size 432x288 with 1 Axes>"
      ]
     },
     "metadata": {
      "needs_background": "light"
     },
     "output_type": "display_data"
    },
    {
     "name": "stdout",
     "output_type": "stream",
     "text": [
      "..........................................................\n",
      "\n",
      "\n"
     ]
    }
   ],
   "source": [
    "# looping through season list to fit a model and plot the residual plots\n",
    "for season in season_list:\n",
    "    \n",
    "    # print the season name to specify what season the plot for\n",
    "    print(season)\n",
    "    \n",
    "    # taking Feature variables from the dataset for 'season'\n",
    "    X_variables = outlier_data[outlier_data['season']==season][variables_list]\n",
    "    \n",
    "    # taking traget variables from the dataset for 'season'\n",
    "    y_target = outlier_data[outlier_data['season']==season]['delivery_charges']\n",
    "    \n",
    "    #visualising cook's distance plot for each model for deciding on each threshold distance\n",
    "    # for each plot we need to decide the cook's distance so that it also decreases the datapoints with high residuals\n",
    "    # Cook's distance and residual plot explain outliers.\n",
    "    cooks_distance(X_variables, y_target,draw_threshold=False,linefmt=\"C0-\", markerfmt=\",\")\n",
    "    \n",
    "    # line break\n",
    "    print(\"..........................................................\\n\\n\")"
   ]
  },
  {
   "cell_type": "markdown",
   "metadata": {},
   "source": [
    "From the above plot, it seems that data points with influence distance equal or above 0.05 are highly influential and can potential be our final outliers. Plotting the residuals will give a clear picture of what removal of those influential points (distance >=0.05) will have an impact on the residual plot of the model. Furthermore, it will also inform if setting the threshold distance =0.05 will surely remove data points with high residuals as studied in previous residual plots."
   ]
  },
  {
   "cell_type": "code",
   "execution_count": 588,
   "metadata": {
    "scrolled": false
   },
   "outputs": [
    {
     "name": "stdout",
     "output_type": "stream",
     "text": [
      "Winter\n"
     ]
    },
    {
     "data": {
      "image/png": "[encoded data removed]",
      "text/plain": [
       "<Figure size 432x288 with 2 Axes>"
      ]
     },
     "metadata": {
      "needs_background": "light"
     },
     "output_type": "display_data"
    },
    {
     "name": "stdout",
     "output_type": "stream",
     "text": [
      "Winter outliers: 9 \n",
      "Non-outliers for Winter : 123\n",
      "..........................................................\n",
      "\n",
      "Summer\n"
     ]
    },
    {
     "data": {
      "image/png": "[encoded data removed]",
      "text/plain": [
       "<Figure size 432x288 with 2 Axes>"
      ]
     },
     "metadata": {
      "needs_background": "light"
     },
     "output_type": "display_data"
    },
    {
     "name": "stdout",
     "output_type": "stream",
     "text": [
      "Summer outliers: 9 \n",
      "Non-outliers for Summer : 133\n",
      "..........................................................\n",
      "\n",
      "Autumn\n"
     ]
    },
    {
     "data": {
      "image/png": "[encoded data removed]",
      "text/plain": [
       "<Figure size 432x288 with 2 Axes>"
      ]
     },
     "metadata": {
      "needs_background": "light"
     },
     "output_type": "display_data"
    },
    {
     "name": "stdout",
     "output_type": "stream",
     "text": [
      "Autumn outliers: 9 \n",
      "Non-outliers for Autumn : 124\n",
      "..........................................................\n",
      "\n",
      "Spring\n"
     ]
    },
    {
     "data": {
      "image/png": "[encoded data removed]",
      "text/plain": [
       "<Figure size 432x288 with 2 Axes>"
      ]
     },
     "metadata": {
      "needs_background": "light"
     },
     "output_type": "display_data"
    },
    {
     "name": "stdout",
     "output_type": "stream",
     "text": [
      "Spring outliers: 11 \n",
      "Non-outliers for Spring : 120\n",
      "..........................................................\n",
      "\n",
      "............Total Outliers in the dataset: 38 ............\n"
     ]
    }
   ],
   "source": [
    "# variable to store total number of outliers\n",
    "total_outlier = 0\n",
    "# list to store index of non-outlier data\n",
    "final_index = list()\n",
    "\n",
    "# looping through season list to fit a model and plot the residual plots\n",
    "for season in season_list:\n",
    "    \n",
    "    # print the season name to specify what season the plot for\n",
    "    print(season)\n",
    "    \n",
    "    # Calling the CooksDistance model inistance \n",
    "    visualizer_cooks = CooksDistance()\n",
    "    # training data for 'season'\n",
    "    X_variables = outlier_data[outlier_data['season']==season][variables_list] # features \n",
    "    y_target = outlier_data[outlier_data['season']==season]['delivery_charges'] # target values with 'delivery_charges'\n",
    "\n",
    "    # fitting the model for cooks distance to find influence distance of all the datapoints\n",
    "    visualizer_cooks.fit(X_variables, y_target)\n",
    "    \n",
    "    # forming a boolena list of data who have influence distance below 0.05\n",
    "    less_influential_outlier = (visualizer_cooks.distance_ <= 0.05)\n",
    "    \n",
    "    # Collecting the feature datapoints of less influential datapoints\n",
    "    X_less_influential_outlier= outlier_data[outlier_data['season']==season][variables_list][less_influential_outlier]\n",
    "    # Collecting the target datapoints of less influential datapoints\n",
    "    y_less_influential_outlier = outlier_data[outlier_data['season']==season]['delivery_charges'][less_influential_outlier]\n",
    "    \n",
    "    # making a final list of indexes wihich are less influential and non outliers\n",
    "    for valid_data in X_less_influential_outlier.index:\n",
    "        final_index.append(valid_data)\n",
    "    \n",
    "    # Remodelling after outlier removal\n",
    "    model = LinearRegression()\n",
    "    # residual plot visualiser for the new model\n",
    "    visualizer_residuals = ResidualsPlot(model)\n",
    "    # fitting the non outlier data to the visualiser\n",
    "    visualizer_residuals.fit(X_less_influential_outlier, y_less_influential_outlier)\n",
    "    # Visualising the residual ... show() is called\n",
    "    visualizer_residuals.show()\n",
    "    \n",
    "    # printing outlier number and total non outlier datapoints for a paticular season\n",
    "    print(season,\"outliers:\",len(y_target)-len(y_less_influential_outlier),\"\\nNon-outliers for\",season,\":\",len(y_target))\n",
    "    \n",
    "    # calculating total outliers after each season visualisation\n",
    "    total_outlier = total_outlier + len(y_target)-len(y_less_influential_outlier)\n",
    "    \n",
    "     # line break\n",
    "    print(\"..........................................................\\n\")\n",
    "    \n",
    "\n",
    "#printing the total number of outliers in the data\n",
    "print(\"............Total Outliers in the dataset:\",total_outlier,\"............\")"
   ]
  },
  {
   "cell_type": "markdown",
   "metadata": {},
   "source": [
    "All models have accuracy (r-square) more than or equal to 70%. Autumn has the highest accuracy standing at 98.8%."
   ]
  },
  {
   "cell_type": "markdown",
   "metadata": {},
   "source": [
    "## 5.3 Outlier Removal"
   ]
  },
  {
   "cell_type": "markdown",
   "metadata": {},
   "source": [
    "From the above plots distance of 0.05 as the threshold was a good decision as it removes high residual data points that are highly influential. In total, 38 outliers are found in the dataset. All of the seasons have 9 outliers except Spring which has 11 highly influential outliers. Furthermore, outlier removal has also increased the R-square value of all the models by a minimum of 20%. Removal of outliers from the original dataset needs to be done for the final solution."
   ]
  },
  {
   "cell_type": "code",
   "execution_count": 589,
   "metadata": {
    "scrolled": false
   },
   "outputs": [
    {
     "name": "stdout",
     "output_type": "stream",
     "text": [
      "Winter Outlier: ['ORD135339', 'ID0578058793', '2019-07-08', 'Thompson', \"[('iAssist Line', 2), ('pearTV', 1), ('Lucent 330S', 1), ('Toshika 750', 1)]\", 16310, 120.48, -37.824805299999994, 144.9470552, 0, 16430.48, 'Winter', True, 1.3505, 'best mid-range smartphone! best android device on the market for under $500', True] \n",
      "\n",
      "Winter Outlier: ['ORD085366', 'ID0583473685', '2019-06-23', 'Bakers', \"[('Lucent 330S', 2), ('Alcon 10', 2), ('Thunder line', 1), ('Universe Note', 2)]\", 29440, 38.175, -37.80469650000001, 144.9985598, 15, 25062.175, 'Winter', True, 0.6585, \"the option to make a slideshow with music i couldn't figure it out. i like how fast the reaction time during game play even with the limited data we have here in dutch harbor alaska.\", True] \n",
      "\n",
      "Spring Outlier: ['ORD188415', 'ID0458643322', '2019-09-04', 'Thompson', \"[('iStream', 2), ('Olivia x460', 2), ('Lucent 330S', 1)]\", 3980, 163.095, -37.7989322, 144.944273, 0, 4143.095, 'Spring', True, 1.5492, 'works great has everything i need. love the android one, replaceable battery, 32gb memory, 3 gb ram, no bloatware, nice big screen, works great with att and tmobile. great price, very happy.', True] \n",
      "\n",
      "Autumn Outlier: ['ORD148587', 'ID3924911400', '2019-04-24', 'Nickolson', \"[('iStream', 2), ('Alcon 10', 2), ('Thunder line', 1)]\", 20380, 100.41, -37.8126201, 144.965171, 5, 19461.41, 'Autumn', False, 0.7686, 'great phone you get the basic functions for what a cell phone is needed for, in other words this phone is simple and effective.', True] \n",
      "\n",
      "Spring Outlier: ['ORD414168', 'ID0331417168', '2019-10-02', 'Bakers', \"[('Lucent 330S', 2), ('iStream', 2), ('Olivia x460', 1), ('pearTV', 1)]\", 10295, 126.465, -37.822885799999995, 145.010151, 25, 7847.715, 'Spring', False, 1.9442, 'five stars like new...', True] \n",
      "\n",
      "Spring Outlier: ['ORD382850', 'ID4085902089', '2019-10-29', 'Thompson', \"[('Candle Inferno', 1), ('Olivia x460', 2), ('pearTV', 1), ('Alcon 10', 1)]\", 18140, 33.785, -37.8255456, 144.95152969999995, 25, 13638.785, 'Spring', False, 1.4856, \"do not buy from edge cellular!!!!! do not buy from edge cellular!!!!!!! defective phone, doesn't work. looks like it was run through a wood chipper before purchase. digico refuses to replace our acknowledge that the seller is selling faulty products.\", False] \n",
      "\n",
      "Autumn Outlier: ['ORD197198', 'ID0711333659', '2019-03-13', 'Thompson', \"[('Lucent 330S', 1), ('iStream', 1), ('Alcon 10', 1)]\", 10330, 39.84, -37.8069133, 144.9579125, 10, 9336.84, 'Autumn', True, 1.1492, 'very good service satisfied with the product the only problem the ... very good service satisfied with the product the only problem the battery was bad it would only hold charge for four hours', True] \n",
      "\n",
      "Summer Outlier: ['ORD426995', 'ID0277089909', '2019-12-05', 'Nickolson', \"[('Thunder line', 2), ('Alcon 10', 2), ('Lucent 330S', 2), ('pearTV', 1)]\", 31030, 116.835, -37.8075185, 144.9706725, 25, 23389.335, 'Summer', False, 1.2369, 'great value i absolutely love this cellphone. great battery life, good security, great resolution video and great camera. what else can you ask for?', True] \n",
      "\n",
      "Summer Outlier: ['ORD274069', 'ID0137148056', '2019-12-31', 'Thompson', \"[('iStream', 1), ('iAssist Line', 1), ('Olivia x460', 2)]\", 4825, 43.715, -37.7963818, 144.9398892, 10, 4386.215, 'Summer', True, 1.9203, 'sadness i could not use it.... it was to old', False] \n",
      "\n",
      "Summer Outlier: ['ORD301261', 'ID0443274284', '2019-02-28', 'Bakers', \"[('Olivia x460', 1), ('iStream', 2), ('pearTV', 1), ('Toshika 750', 1)]\", 12155, 49.165, -37.8186997, 145.0052457, 10, 10988.665, 'Summer', True, 1.3093, 'super phone,awesome for the price! own a lg g4,htc m7 & m8,alcon 5s and now a lucent x second gen. love my lucent the best! customized to me, sharp screen,fast,light,easy to set up from old phone. buying my wife a lucent g!', True] \n",
      "\n",
      "Winter Outlier: ['ORD418863', 'ID3229057023', '2019-08-18', 'Bakers', \"[('Lucent 330S', 1), ('Alcon 10', 2)]\", 19130, 117.84, -37.802285299999994, 145.00331709999998, 10, 17334.84, 'Winter', True, 1.1146, 'perfecto full equipo... todo nuevo, excelente precio', True] \n",
      "\n",
      "Summer Outlier: ['ORD150543', 'ID0836036543', '2019-01-05', 'Nickolson', \"[('Olivia x460', 2), ('Lucent 330S', 2)]\", 4910, 139.875, -37.810226799999995, 144.9708867, 10, 4558.875, 'Summer', True, 0.9389, 'three stars what is the imei number for this phone?', True] \n",
      "\n",
      "Summer Outlier: ['ORD119856', 'ID6221450549', '2019-12-25', 'Bakers', \"[('iAssist Line', 1), ('Alcon 10', 1), ('iStream', 2), ('pearTV', 1)]\", 17785, 121.08, -37.808762, 144.9825991, 10, 16127.58, 'Summer', True, 1.1195, \"two stars i don't like it cause it doesn't work as i expected........\", False] \n",
      "\n",
      "Spring Outlier: ['ORD376072', 'ID0440061347', '2019-11-19', 'Bakers', \"[('iAssist Line', 1), ('Toshika 750', 2), ('Olivia x460', 1), ('Candle Inferno', 2)]\", 12950, 50.83, -37.8149226, 144.99126280000004, 5, 12353.33, 'Spring', True, 0.6501, 'very easy to use. this is a nice phone i switch from a microsoft phone to an android phone and i love it.', True] \n",
      "\n",
      "Winter Outlier: ['ORD041396', 'ID0949544839', '2019-07-31', 'Thompson', \"[('Thunder line', 1), ('Universe Note', 1)]\", 5630, 126.885, -37.799896399999994, 144.9289558, 10, 5193.885, 'Winter', True, 2.1356, 'the quality of this phone is absolutely the best ! i love this phone, it is fantastic ! easy to use and the pictures are amazing!', True] \n",
      "\n",
      "Autumn Outlier: ['ORD228082', 'ID0506043053', '2019-05-27', 'Thompson', \"[('Alcon 10', 2), ('iStream', 1), ('Olivia x460', 2), ('Universe Note', 2)]\", 27400, 39.035, -37.8193597, 144.952975, 10, 24699.035, 'Autumn', True, 0.9076, 'muy buen cel cel calidad , precio super.', True] \n",
      "\n",
      "Spring Outlier: ['ORD021991', 'ID2455254505', '2019-10-16', 'Bakers', \"[('Alcon 10', 1), ('Candle Inferno', 2), ('pearTV', 1)]\", 16120, 129.4, -37.7738026, 144.98364660000001, 25, 12219.4, 'Spring', True, 4.1559, 'works great wife loves it', True] \n",
      "\n",
      "Autumn Outlier: ['ORD030181', 'ID2279006916', '2019-04-24', 'Thompson', \"[('Olivia x460', 1), ('Toshika 750', 2)]\", 9865, 98.265, -37.8156856, 144.95781680000005, 0, 9963.265, 'Autumn', False, 1.0029, \"it's slim and nicely designed am loving my new phone everything works perfectly, since am a professional photographer the phone camera do not matter to much i haven't use the camera, yes i'!! recommend this phone to anyone who wants to buy it.\", True] \n",
      "\n",
      "Spring Outlier: ['ORD305925', 'ID0373644746', '2019-11-17', 'Thompson', \"[('Alcon 10', 1), ('Lucent 330S', 2), ('Candle Inferno', 1)]\", 11840, 134.94, -37.8083237, 144.9212169, 10, 10790.94, 'Spring', False, 2.3245, 'good product fast delivery answered email after i received turn ... good product fast delivery answered email after i received turn when i had question great experience', True] \n",
      "\n",
      "Summer Outlier: ['ORD493924', 'ID0248746980', '2019-02-05', 'Bakers', \"[('Universe Note', 1), ('iAssist Line', 1), ('pearTV', 2)]\", 18295, 148.395, -37.821635, 144.99863169999998, 15, 15699.145, 'Summer', True, 1.3297, 'it was brand new and it was the universe s4 like i ordered this phone is everything as described. it was brand new and it was the universe s4 like i ordered. it was also a pretty good price as well. i love this phone!', True] \n",
      "\n",
      "Autumn Outlier: ['ORD366930', 'ID2189269632', '2019-04-30', 'Nickolson', \"[('Olivia x460', 1), ('iStream', 2), ('iAssist Line', 2)]\", 5975, 117.465, -37.820933000000004, 144.9614707, 15, 5196.215, 'Autumn', True, 0.7567, 'great phone this is perhaps my favorite phone.', True] \n",
      "\n",
      "Summer Outlier: ['ORD275837', 'ID0746912597', '2019-01-03', 'Nickolson', \"[('Alcon 10', 1), ('Universe Note', 2), ('Candle Inferno', 1)]\", 16280, 49.675, -37.824325, 144.98447439999995, 15, 13887.675, 'Summer', True, 1.4591, 'this is the best phone in my life love it', True] \n",
      "\n",
      "Summer Outlier: ['ORD137666', 'ID6167489493', '2019-12-11', 'Nickolson', \"[('iStream', 1), ('Alcon 10', 1), ('pearTV', 2), ('Toshika 750', 2)]\", 30360, 45.785, -37.8179318, 144.9621993, 15, 25851.785, 'Summer', True, 0.6507, 'video calling we bought this for our granddaughter and she is enjoying it totally. i don’t know all the gadgets but she has shared, it’s the best phone she’s ever had!!!”', True] \n",
      "\n",
      "Winter Outlier: ['ORD089156', 'ID6021320963', '2019-06-17', 'Thompson', \"[('pearTV', 2), ('iStream', 1), ('Lucent 330S', 2)]\", 15230, 38.51, -37.8165715, 144.93772019999997, 15, 12984.01, 'Winter', True, 0.9296, 'great phone and good battery after using this phone for several months, i dare to say this is the best mobile phone that i have ever used. great camera, smooth speed, suitable size, and easy to use. the most impressive thing is that the battery can last at least one day for heavy user.', True] \n",
      "\n",
      "Spring Outlier: ['ORD480878', 'ID0060096993', '2019-11-13', 'Thompson', \"[('pearTV', 2), ('iAssist Line', 2)]\", 17070, 48.59, -37.813450700000004, 144.9481196, 15, 14558.09, 'Spring', True, 0.1266, 'the camera love this phone', True] \n",
      "\n",
      "Spring Outlier: ['ORD427791', 'ID0702354038', '2019-10-22', 'Thompson', \"[('pearTV', 1), ('Olivia x460', 2), ('Toshika 750', 2), ('Universe Note', 2)]\", 24300, 51.28, -37.8060961, 144.9428659, 0, 24351.28, 'Spring', True, 0.8202, 'fast budget phone for people who dont game great camera and screen. very competitive value i purchased this over the lucent g7 as it is more sleek and has a better camera for less!!', True] \n",
      "\n",
      "Autumn Outlier: ['ORD060794', 'ID0060096860', '2019-04-13', 'Nickolson', \"[('Candle Inferno', 1), ('Universe Note', 1), ('Lucent 330S', 2), ('iStream', 2)]\", 6640, 94.125, -37.8184834, 144.972258, 15, 5738.125, 'Autumn', False, 0.2384, 'five stars perfect...100% satisfied', True] \n",
      "\n",
      "Winter Outlier: ['ORD412673', 'ID0287629447', '2019-07-14', 'Thompson', \"[('Toshika 750', 1), ('Lucent 330S', 2), ('Candle Inferno', 1), ('Thunder line', 1)]\", 9390, 117.285, -37.8043419, 144.9488589, 0, 9507.285, 'Winter', True, 0.9407, 'i absolutely love toshika phones i absolutely love toshika phones, i use t-mobile, have no network issues everything works great and everything syncing up.', True] \n",
      "\n",
      "Winter Outlier: ['ORD033402', 'ID2176972928', '2019-07-28', 'Bakers', \"[('Candle Inferno', 2), ('Olivia x460', 2)]\", 3310, 40.94, -37.80372360000001, 145.010641, 5, 3185.44, 'Winter', True, 1.5245, 'is very good okay', True] \n",
      "\n",
      "Spring Outlier: ['ORD117901', 'ID0777715793', '2019-10-19', 'Thompson', \"[('Thunder line', 1), ('Candle Inferno', 1), ('Toshika 750', 1)]\", 6930, 134.445, -37.805153999999995, 144.9556375, 0, 7064.445, 'Spring', True, 1.1263, 'this device is not as great as advertised. it does not do as many things as expected and you have to go to a lot of trouble to do otherwise', False] \n",
      "\n",
      "Autumn Outlier: ['ORD327850', 'ID5002595085', '2019-05-13', 'Thompson', \"[('iAssist Line', 1), ('iStream', 2)]\", 2525, 119.685, -37.8123436, 144.9535614, 0, 2644.685, 'Autumn', True, 0.5721, 'buen estado perfecto estado', True] \n",
      "\n",
      "Summer Outlier: ['ORD496793', 'ID1725216373', '2019-02-10', 'Nickolson', \"[('Lucent 330S', 1), ('Olivia x460', 1), ('Alcon 10', 2)]\", 20355, 51.57, -37.8018898, 144.9652971, 25, 15317.82, 'Summer', True, 1.8968, 'great phone looks like new, fast phone with a top of the line camera and video camera. turbo charging is a great feature. long battery life and great signal.', True] \n",
      "\n",
      "Spring Outlier: ['ORD140379', 'ID5424203777', '2019-11-26', 'Nickolson', \"[('iAssist Line', 1), ('Candle Inferno', 2), ('Lucent 330S', 2), ('Alcon 10', 1)]\", 14495, 43.205, -37.8223304, 144.9782491, 10, 13088.705, 'Spring', True, 0.8706, 'poor battery life phone dies about every 6 hours on moderate to low usage. nuff said. how do you do anything if your phone dies when it says it has 30% charge left..', False] \n",
      "\n",
      "Autumn Outlier: ['ORD276395', 'ID1132069641', '2019-05-20', 'Thompson', \"[('Toshika 750', 1), ('Candle Inferno', 2)]\", 5180, 95.505, -37.81407760000001, 144.9446245, 15, 4498.505, 'Autumn', False, 0.2658, 'has everything best phone that money can buy today.', True] \n",
      "\n",
      "Winter Outlier: ['ORD050388', 'ID0492939878', '2019-08-25', 'Bakers', \"[('Toshika 750', 1), ('Lucent 330S', 2)]\", 6780, 41.94, -37.7995701, 145.0108497, 15, 5804.94, 'Winter', True, 1.7983, \"it's a really great tablet. it even has digico iassist built in, so i don't have to buy thunder or thunder line. i originally bought it to use as a mp3 player but has so many features, i haven't added any music to it.\", True] \n",
      "\n",
      "Spring Outlier: ['ORD461514', 'ID0634784119', '2019-11-20', 'Thompson', \"[('Lucent 330S', 2), ('Universe Note', 2)]\", 9360, 50.845, -37.81383320000001, 144.9376909, 0, 9410.845, 'Spring', True, 0.8348, 'five stars great product!', True] \n",
      "\n",
      "Autumn Outlier: ['ORD158844', 'ID2177115182', '2019-04-19', 'Thompson', \"[('Olivia x460', 1), ('Toshika 750', 1), ('Universe Note', 1)]\", 8995, 99.03, -37.81644650000001, 144.95527969999995, 5, 8644.28, 'Autumn', False, 0.8353, 'good phone.... all good with the phone so far,, just no way to add any extra memory,, 32 gigs . goes fast we diddnt catch that at ztime of ordering,,', True] \n",
      "\n",
      "Winter Outlier: ['ORD014453', 'ID4315294438', '2019-07-16', 'Thompson', \"[('iAssist Line', 2), ('Alcon 10', 1), ('Candle Inferno', 2)]\", 14260, 115.275, -37.817159499999995, 144.9533083, 5, 13662.275, 'Winter', True, 0.7419, 'love the features and response solid phone. love the features and response. my only negative is the absence of a memory card.', True] \n",
      "\n"
     ]
    }
   ],
   "source": [
    "# Converting is_expedited_delivery and is_happy_customer back to boolean datatypes\n",
    "outlier_data['is_expedited_delivery']= outlier_data['is_expedited_delivery'].astype(bool)\n",
    "outlier_data['is_happy_customer']= outlier_data['is_happy_customer'].astype(bool)\n",
    "\n",
    "#  iterating through the dataframe. Printing and removing the outlier.\n",
    "for index,row in outlier_data.iterrows():\n",
    "    \n",
    "    # if index is not in the final non index list i.e. final_index than it's an outlier\n",
    "    if index not in final_index:\n",
    "        \n",
    "        # printing season and it's outlier feature and target. Printing all 38 outliers.\n",
    "        print(row['season'],\"Outlier:\",list(row),\"\\n\")\n",
    "        # dropping the outliers from the dataset\n",
    "        outlier_data.drop(index)\n"
   ]
  },
  {
   "cell_type": "markdown",
   "metadata": {},
   "source": [
    "## 5.4 Outlier Data Solution\n",
    "\n",
    "Finally writing the outlier free solution in the csv. "
   ]
  },
  {
   "cell_type": "code",
   "execution_count": 590,
   "metadata": {},
   "outputs": [],
   "source": [
    "outlier_data.to_csv('30154987_outlier_data_solution.csv', index=False)"
   ]
  },
  {
   "cell_type": "markdown",
   "metadata": {},
   "source": [
    "## C. Conclusion\n",
    "The assignment had three topics to work on and each one provided a challenge on its own. It can be concluded that finding errors in the data it the toughest part of data cleansing as it requires a Data Scientist to think about the cases where the data can be faulty. Knowing the background of the data beforehand is highly important for finding the errors or imputing the data. Furthermore, it was fascinating to see that each column has 27 errors if it had any errors. This situation may not be present in real-life situations datasets which also says that the data was intentionally disfigured or artificially generated.\n",
    "\n",
    "Filling the missing data was easy as most of the columns could be calculated using functions formed in the Dirty data section of the assessment. The model building helped to utilize the business rules which in turn imputed the data. \n",
    "\n",
    "Finally, outliers detection presented a challenge as it wasn't easy to come up with the most suitable outliers by just plotting the box plots or just looking at the residual plots. Cook's distance along with residual plots for each model helped decide on what is the most preferred outlier. It is difficult to always find the exact number of outliers as some of them will always exist in the data relative to the model. "
   ]
  },
  {
   "cell_type": "markdown",
   "metadata": {},
   "source": [
    "## D. References\n",
    "\n",
    "- Outlier - https://www.scikit-yb.org/en/latest/api/regressor/influence.html\n",
    "- Outlier - https://www.scikit-yb.org/en/latest/api/regressor/residuals.html\n",
    "- Distance between 2 coordiantes - https://www.geeksforgeeks.org/program-distance-two-points-earth/#:~:text=For%20this%20divide%20the%20values,is%20the%20radius%20of%20Earth.\n",
    "- Distance between 2 coordiantes - https://gist.github.com/rochacbruno/2883505"
   ]
  }
 ],
 "metadata": {
  "kernelspec": {
   "display_name": "Python 3",
   "language": "python",
   "name": "python3"
  },
  "language_info": {
   "codemirror_mode": {
    "name": "ipython",
    "version": 3
   },
   "file_extension": ".py",
   "mimetype": "text/x-python",
   "name": "python",
   "nbconvert_exporter": "python",
   "pygments_lexer": "ipython3",
   "version": "3.8.5"
  }
 },
 "nbformat": 4,
 "nbformat_minor": 4
}
